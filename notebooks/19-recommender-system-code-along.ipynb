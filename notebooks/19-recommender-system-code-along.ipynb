{
 "cells": [
  {
   "cell_type": "markdown",
   "metadata": {},
   "source": [
    "# Spark\n",
    "## Recommender system\n",
    "### Code along"
   ]
  },
  {
   "cell_type": "code",
   "execution_count": 3,
   "metadata": {},
   "outputs": [],
   "source": [
    "from tqdm.notebook import tqdm\n",
    "\n",
    "import numpy as np\n",
    "import pandas as pd\n",
    "\n",
    "import findspark\n",
    "\n",
    "from pyspark import SparkConf\n",
    "from pyspark import SparkContext\n",
    "\n",
    "from pyspark.sql import SparkSession\n",
    "import pyspark.sql.functions as F\n",
    "\n",
    "from pyspark.ml import Pipeline\n",
    "\n",
    "from pyspark.ml.feature import VectorAssembler\n",
    "from pyspark.ml.feature import StandardScaler\n",
    "from pyspark.ml.feature import VectorIndexer\n",
    "from pyspark.ml.feature import OneHotEncoder\n",
    "from pyspark.ml.feature import StringIndexer\n",
    "\n",
    "from pyspark.ml.recommendation import ALS\n",
    "\n",
    "from pyspark.ml.evaluation import RegressionEvaluator\n",
    "\n",
    "from matplotlib import pyplot as plt\n",
    "import seaborn as sns\n",
    "\n",
    "import optuna"
   ]
  },
  {
   "cell_type": "code",
   "execution_count": 4,
   "metadata": {},
   "outputs": [],
   "source": [
    "findspark.init()\n",
    "findspark.find()\n",
    "\n",
    "%matplotlib inline\n",
    "sns.set_theme(style='darkgrid')\n",
    "sns.set_context(\"notebook\", rc={\"lines.linewidth\": 2.5})"
   ]
  },
  {
   "cell_type": "code",
   "execution_count": 5,
   "metadata": {},
   "outputs": [],
   "source": [
    "random_seed = 1"
   ]
  },
  {
   "cell_type": "code",
   "execution_count": 6,
   "metadata": {},
   "outputs": [],
   "source": [
    "conf = SparkConf() \\\n",
    "    .setAppName(\"recommender\") \\\n",
    "    #.setMaster('local') \\\n",
    "    #.set('spark.executor.memory', '8g') \\\n",
    "    #.set('spark.driver.maxResultSize', '8g') \\\n",
    "    #.set(\"spark.memory.fraction\", \"0.6\") \\\n",
    "    #.set(\"spark.memory.storageFraction\", \"0.5\") \\\n",
    "    #.set(\"spark.sql.shuffle.partitions\", \"5\") \\\n",
    "    #.set(\"spark.memory.offHeap.enabled\", \"false\") \\\n",
    "    #.set(\"spark.reducer.maxSizeInFlight\", \"96m\") \\\n",
    "    #.set(\"spark.shuffle.file.buffer\", \"256k\") \\\n",
    "    #.set(\"spark.sql.debug.maxToStringFields\", \"100\") \\\n",
    "    #.set('spark.sql.autoBroadcastJoinThreshold', '-1')"
   ]
  },
  {
   "cell_type": "code",
   "execution_count": 7,
   "metadata": {},
   "outputs": [
    {
     "name": "stderr",
     "output_type": "stream",
     "text": [
      "your 131072x1 screen size is bogus. expect trouble\n",
      "23/11/09 13:55:08 WARN Utils: Your hostname, Diego-desktop resolves to a loopback address: 127.0.1.1; using 172.27.76.109 instead (on interface eth0)\n",
      "23/11/09 13:55:08 WARN Utils: Set SPARK_LOCAL_IP if you need to bind to another address\n",
      "Setting default log level to \"WARN\".\n",
      "To adjust logging level use sc.setLogLevel(newLevel). For SparkR, use setLogLevel(newLevel).\n",
      "23/11/09 13:55:10 WARN NativeCodeLoader: Unable to load native-hadoop library for your platform... using builtin-java classes where applicable\n"
     ]
    }
   ],
   "source": [
    "%%capture\n",
    "\n",
    "spark = SparkSession.builder.config(conf=conf).getOrCreate()"
   ]
  },
  {
   "cell_type": "code",
   "execution_count": 9,
   "metadata": {},
   "outputs": [
    {
     "name": "stderr",
     "output_type": "stream",
     "text": [
      "                                                                                \r"
     ]
    }
   ],
   "source": [
    "df = spark.read.csv('../data/movielens_ratings.csv', header=True, inferSchema=True)"
   ]
  },
  {
   "cell_type": "code",
   "execution_count": 10,
   "metadata": {},
   "outputs": [
    {
     "name": "stdout",
     "output_type": "stream",
     "text": [
      "root\n",
      " |-- movieId: integer (nullable = true)\n",
      " |-- rating: double (nullable = true)\n",
      " |-- userId: integer (nullable = true)\n",
      "\n"
     ]
    }
   ],
   "source": [
    "df.printSchema()"
   ]
  },
  {
   "cell_type": "code",
   "execution_count": 11,
   "metadata": {},
   "outputs": [
    {
     "name": "stdout",
     "output_type": "stream",
     "text": [
      "+-------+------+------+\n",
      "|movieId|rating|userId|\n",
      "+-------+------+------+\n",
      "|      2|   3.0|     0|\n",
      "|      3|   1.0|     0|\n",
      "|      5|   2.0|     0|\n",
      "|      9|   4.0|     0|\n",
      "|     11|   1.0|     0|\n",
      "+-------+------+------+\n",
      "only showing top 5 rows\n",
      "\n"
     ]
    }
   ],
   "source": [
    "df.show(5)"
   ]
  },
  {
   "cell_type": "code",
   "execution_count": 20,
   "metadata": {},
   "outputs": [
    {
     "name": "stdout",
     "output_type": "stream",
     "text": [
      "+-------+------------------+------------------+------------------+\n",
      "|summary|           movieId|            rating|            userId|\n",
      "+-------+------------------+------------------+------------------+\n",
      "|  count|              1501|              1501|              1501|\n",
      "|   mean| 49.40572951365756|1.7741505662891406|14.383744170552964|\n",
      "| stddev|28.937034065088994| 1.187276166124803| 8.591040424293272|\n",
      "|    min|                 0|               1.0|                 0|\n",
      "|    max|                99|               5.0|                29|\n",
      "+-------+------------------+------------------+------------------+\n",
      "\n"
     ]
    }
   ],
   "source": [
    "df.describe().show()"
   ]
  },
  {
   "cell_type": "code",
   "execution_count": 27,
   "metadata": {},
   "outputs": [
    {
     "name": "stdout",
     "output_type": "stream",
     "text": [
      "+------+-------------+\n",
      "|userId|count(userId)|\n",
      "+------+-------------+\n",
      "|    10|           44|\n",
      "|    16|           45|\n",
      "|    27|           46|\n",
      "|    17|           46|\n",
      "|    25|           46|\n",
      "|    29|           46|\n",
      "|     2|           46|\n",
      "|    20|           47|\n",
      "|    13|           48|\n",
      "|     3|           48|\n",
      "|    15|           48|\n",
      "|    21|           48|\n",
      "|    26|           49|\n",
      "|     1|           49|\n",
      "|     5|           49|\n",
      "|    19|           49|\n",
      "|     8|           49|\n",
      "|     0|           49|\n",
      "|    28|           50|\n",
      "|    23|           52|\n",
      "+------+-------------+\n",
      "only showing top 20 rows\n",
      "\n"
     ]
    }
   ],
   "source": [
    "df.groupBy('userId').agg({'userId' : 'count'}).orderBy('count(userId)').show()"
   ]
  },
  {
   "cell_type": "code",
   "execution_count": 16,
   "metadata": {},
   "outputs": [
    {
     "name": "stdout",
     "output_type": "stream",
     "text": [
      "+-------+--------------+\n",
      "|movieId|count(movieId)|\n",
      "+-------+--------------+\n",
      "|      8|             7|\n",
      "|     42|             8|\n",
      "|     93|            10|\n",
      "|     41|            10|\n",
      "|     46|            10|\n",
      "|     16|            11|\n",
      "|     34|            11|\n",
      "|     76|            11|\n",
      "|     65|            11|\n",
      "|     80|            11|\n",
      "|     89|            11|\n",
      "|     53|            12|\n",
      "|     28|            12|\n",
      "|     57|            12|\n",
      "|     32|            12|\n",
      "|     75|            12|\n",
      "|     11|            12|\n",
      "|     74|            12|\n",
      "|      3|            13|\n",
      "|      1|            13|\n",
      "+-------+--------------+\n",
      "only showing top 20 rows\n",
      "\n"
     ]
    }
   ],
   "source": [
    "df.groupBy('movieId').agg({'movieId' : 'count'}).orderBy('count(movieId)').show()"
   ]
  },
  {
   "cell_type": "code",
   "execution_count": 29,
   "metadata": {},
   "outputs": [],
   "source": [
    "train, test = df.randomSplit([0.8, 0.2])"
   ]
  },
  {
   "cell_type": "code",
   "execution_count": 30,
   "metadata": {},
   "outputs": [
    {
     "name": "stdout",
     "output_type": "stream",
     "text": [
      "\u001b[0;31mInit signature:\u001b[0m\n",
      "\u001b[0mALS\u001b[0m\u001b[0;34m(\u001b[0m\u001b[0;34m\u001b[0m\n",
      "\u001b[0;34m\u001b[0m    \u001b[0;34m*\u001b[0m\u001b[0;34m,\u001b[0m\u001b[0;34m\u001b[0m\n",
      "\u001b[0;34m\u001b[0m    \u001b[0mrank\u001b[0m\u001b[0;34m:\u001b[0m \u001b[0mint\u001b[0m \u001b[0;34m=\u001b[0m \u001b[0;36m10\u001b[0m\u001b[0;34m,\u001b[0m\u001b[0;34m\u001b[0m\n",
      "\u001b[0;34m\u001b[0m    \u001b[0mmaxIter\u001b[0m\u001b[0;34m:\u001b[0m \u001b[0mint\u001b[0m \u001b[0;34m=\u001b[0m \u001b[0;36m10\u001b[0m\u001b[0;34m,\u001b[0m\u001b[0;34m\u001b[0m\n",
      "\u001b[0;34m\u001b[0m    \u001b[0mregParam\u001b[0m\u001b[0;34m:\u001b[0m \u001b[0mfloat\u001b[0m \u001b[0;34m=\u001b[0m \u001b[0;36m0.1\u001b[0m\u001b[0;34m,\u001b[0m\u001b[0;34m\u001b[0m\n",
      "\u001b[0;34m\u001b[0m    \u001b[0mnumUserBlocks\u001b[0m\u001b[0;34m:\u001b[0m \u001b[0mint\u001b[0m \u001b[0;34m=\u001b[0m \u001b[0;36m10\u001b[0m\u001b[0;34m,\u001b[0m\u001b[0;34m\u001b[0m\n",
      "\u001b[0;34m\u001b[0m    \u001b[0mnumItemBlocks\u001b[0m\u001b[0;34m:\u001b[0m \u001b[0mint\u001b[0m \u001b[0;34m=\u001b[0m \u001b[0;36m10\u001b[0m\u001b[0;34m,\u001b[0m\u001b[0;34m\u001b[0m\n",
      "\u001b[0;34m\u001b[0m    \u001b[0mimplicitPrefs\u001b[0m\u001b[0;34m:\u001b[0m \u001b[0mbool\u001b[0m \u001b[0;34m=\u001b[0m \u001b[0;32mFalse\u001b[0m\u001b[0;34m,\u001b[0m\u001b[0;34m\u001b[0m\n",
      "\u001b[0;34m\u001b[0m    \u001b[0malpha\u001b[0m\u001b[0;34m:\u001b[0m \u001b[0mfloat\u001b[0m \u001b[0;34m=\u001b[0m \u001b[0;36m1.0\u001b[0m\u001b[0;34m,\u001b[0m\u001b[0;34m\u001b[0m\n",
      "\u001b[0;34m\u001b[0m    \u001b[0muserCol\u001b[0m\u001b[0;34m:\u001b[0m \u001b[0mstr\u001b[0m \u001b[0;34m=\u001b[0m \u001b[0;34m'user'\u001b[0m\u001b[0;34m,\u001b[0m\u001b[0;34m\u001b[0m\n",
      "\u001b[0;34m\u001b[0m    \u001b[0mitemCol\u001b[0m\u001b[0;34m:\u001b[0m \u001b[0mstr\u001b[0m \u001b[0;34m=\u001b[0m \u001b[0;34m'item'\u001b[0m\u001b[0;34m,\u001b[0m\u001b[0;34m\u001b[0m\n",
      "\u001b[0;34m\u001b[0m    \u001b[0mseed\u001b[0m\u001b[0;34m:\u001b[0m \u001b[0mOptional\u001b[0m\u001b[0;34m[\u001b[0m\u001b[0mint\u001b[0m\u001b[0;34m]\u001b[0m \u001b[0;34m=\u001b[0m \u001b[0;32mNone\u001b[0m\u001b[0;34m,\u001b[0m\u001b[0;34m\u001b[0m\n",
      "\u001b[0;34m\u001b[0m    \u001b[0mratingCol\u001b[0m\u001b[0;34m:\u001b[0m \u001b[0mstr\u001b[0m \u001b[0;34m=\u001b[0m \u001b[0;34m'rating'\u001b[0m\u001b[0;34m,\u001b[0m\u001b[0;34m\u001b[0m\n",
      "\u001b[0;34m\u001b[0m    \u001b[0mnonnegative\u001b[0m\u001b[0;34m:\u001b[0m \u001b[0mbool\u001b[0m \u001b[0;34m=\u001b[0m \u001b[0;32mFalse\u001b[0m\u001b[0;34m,\u001b[0m\u001b[0;34m\u001b[0m\n",
      "\u001b[0;34m\u001b[0m    \u001b[0mcheckpointInterval\u001b[0m\u001b[0;34m:\u001b[0m \u001b[0mint\u001b[0m \u001b[0;34m=\u001b[0m \u001b[0;36m10\u001b[0m\u001b[0;34m,\u001b[0m\u001b[0;34m\u001b[0m\n",
      "\u001b[0;34m\u001b[0m    \u001b[0mintermediateStorageLevel\u001b[0m\u001b[0;34m:\u001b[0m \u001b[0mstr\u001b[0m \u001b[0;34m=\u001b[0m \u001b[0;34m'MEMORY_AND_DISK'\u001b[0m\u001b[0;34m,\u001b[0m\u001b[0;34m\u001b[0m\n",
      "\u001b[0;34m\u001b[0m    \u001b[0mfinalStorageLevel\u001b[0m\u001b[0;34m:\u001b[0m \u001b[0mstr\u001b[0m \u001b[0;34m=\u001b[0m \u001b[0;34m'MEMORY_AND_DISK'\u001b[0m\u001b[0;34m,\u001b[0m\u001b[0;34m\u001b[0m\n",
      "\u001b[0;34m\u001b[0m    \u001b[0mcoldStartStrategy\u001b[0m\u001b[0;34m:\u001b[0m \u001b[0mstr\u001b[0m \u001b[0;34m=\u001b[0m \u001b[0;34m'nan'\u001b[0m\u001b[0;34m,\u001b[0m\u001b[0;34m\u001b[0m\n",
      "\u001b[0;34m\u001b[0m    \u001b[0mblockSize\u001b[0m\u001b[0;34m:\u001b[0m \u001b[0mint\u001b[0m \u001b[0;34m=\u001b[0m \u001b[0;36m4096\u001b[0m\u001b[0;34m,\u001b[0m\u001b[0;34m\u001b[0m\n",
      "\u001b[0;34m\u001b[0m\u001b[0;34m)\u001b[0m\u001b[0;34m\u001b[0m\u001b[0;34m\u001b[0m\u001b[0m\n",
      "\u001b[0;31mDocstring:\u001b[0m     \n",
      "Alternating Least Squares (ALS) matrix factorization.\n",
      "\n",
      "ALS attempts to estimate the ratings matrix `R` as the product of\n",
      "two lower-rank matrices, `X` and `Y`, i.e. `X * Yt = R`. Typically\n",
      "these approximations are called 'factor' matrices. The general\n",
      "approach is iterative. During each iteration, one of the factor\n",
      "matrices is held constant, while the other is solved for using least\n",
      "squares. The newly-solved factor matrix is then held constant while\n",
      "solving for the other factor matrix.\n",
      "\n",
      "This is a blocked implementation of the ALS factorization algorithm\n",
      "that groups the two sets of factors (referred to as \"users\" and\n",
      "\"products\") into blocks and reduces communication by only sending\n",
      "one copy of each user vector to each product block on each\n",
      "iteration, and only for the product blocks that need that user's\n",
      "feature vector. This is achieved by pre-computing some information\n",
      "about the ratings matrix to determine the \"out-links\" of each user\n",
      "(which blocks of products it will contribute to) and \"in-link\"\n",
      "information for each product (which of the feature vectors it\n",
      "receives from each user block it will depend on). This allows us to\n",
      "send only an array of feature vectors between each user block and\n",
      "product block, and have the product block find the users' ratings\n",
      "and update the products based on these messages.\n",
      "\n",
      "For implicit preference data, the algorithm used is based on\n",
      "`\"Collaborative Filtering for Implicit Feedback Datasets\",\n",
      "<https://doi.org/10.1109/ICDM.2008.22>`_, adapted for the blocked\n",
      "approach used here.\n",
      "\n",
      "Essentially instead of finding the low-rank approximations to the\n",
      "rating matrix `R`, this finds the approximations for a preference\n",
      "matrix `P` where the elements of `P` are 1 if r > 0 and 0 if r <= 0.\n",
      "The ratings then act as 'confidence' values related to strength of\n",
      "indicated user preferences rather than explicit ratings given to\n",
      "items.\n",
      "\n",
      ".. versionadded:: 1.4.0\n",
      "\n",
      "Notes\n",
      "-----\n",
      "The input rating dataframe to the ALS implementation should be deterministic.\n",
      "Nondeterministic data can cause failure during fitting ALS model.\n",
      "For example, an order-sensitive operation like sampling after a repartition makes\n",
      "dataframe output nondeterministic, like `df.repartition(2).sample(False, 0.5, 1618)`.\n",
      "Checkpointing sampled dataframe or adding a sort before sampling can help make the\n",
      "dataframe deterministic.\n",
      "\n",
      "Examples\n",
      "--------\n",
      ">>> df = spark.createDataFrame(\n",
      "...     [(0, 0, 4.0), (0, 1, 2.0), (1, 1, 3.0), (1, 2, 4.0), (2, 1, 1.0), (2, 2, 5.0)],\n",
      "...     [\"user\", \"item\", \"rating\"])\n",
      ">>> als = ALS(rank=10, seed=0)\n",
      ">>> als.setMaxIter(5)\n",
      "ALS...\n",
      ">>> als.getMaxIter()\n",
      "5\n",
      ">>> als.setRegParam(0.1)\n",
      "ALS...\n",
      ">>> als.getRegParam()\n",
      "0.1\n",
      ">>> als.clear(als.regParam)\n",
      ">>> model = als.fit(df)\n",
      ">>> model.getBlockSize()\n",
      "4096\n",
      ">>> model.getUserCol()\n",
      "'user'\n",
      ">>> model.setUserCol(\"user\")\n",
      "ALSModel...\n",
      ">>> model.getItemCol()\n",
      "'item'\n",
      ">>> model.setPredictionCol(\"newPrediction\")\n",
      "ALS...\n",
      ">>> model.rank\n",
      "10\n",
      ">>> model.userFactors.orderBy(\"id\").collect()\n",
      "[Row(id=0, features=[...]), Row(id=1, ...), Row(id=2, ...)]\n",
      ">>> test = spark.createDataFrame([(0, 2), (1, 0), (2, 0)], [\"user\", \"item\"])\n",
      ">>> predictions = sorted(model.transform(test).collect(), key=lambda r: r[0])\n",
      ">>> predictions[0]\n",
      "Row(user=0, item=2, newPrediction=0.6929...)\n",
      ">>> predictions[1]\n",
      "Row(user=1, item=0, newPrediction=3.47356...)\n",
      ">>> predictions[2]\n",
      "Row(user=2, item=0, newPrediction=-0.899198...)\n",
      ">>> user_recs = model.recommendForAllUsers(3)\n",
      ">>> user_recs.where(user_recs.user == 0)        .select(\"recommendations.item\", \"recommendations.rating\").collect()\n",
      "[Row(item=[0, 1, 2], rating=[3.910..., 1.997..., 0.692...])]\n",
      ">>> item_recs = model.recommendForAllItems(3)\n",
      ">>> item_recs.where(item_recs.item == 2)        .select(\"recommendations.user\", \"recommendations.rating\").collect()\n",
      "[Row(user=[2, 1, 0], rating=[4.892..., 3.991..., 0.692...])]\n",
      ">>> user_subset = df.where(df.user == 2)\n",
      ">>> user_subset_recs = model.recommendForUserSubset(user_subset, 3)\n",
      ">>> user_subset_recs.select(\"recommendations.item\", \"recommendations.rating\").first()\n",
      "Row(item=[2, 1, 0], rating=[4.892..., 1.076..., -0.899...])\n",
      ">>> item_subset = df.where(df.item == 0)\n",
      ">>> item_subset_recs = model.recommendForItemSubset(item_subset, 3)\n",
      ">>> item_subset_recs.select(\"recommendations.user\", \"recommendations.rating\").first()\n",
      "Row(user=[0, 1, 2], rating=[3.910..., 3.473..., -0.899...])\n",
      ">>> als_path = temp_path + \"/als\"\n",
      ">>> als.save(als_path)\n",
      ">>> als2 = ALS.load(als_path)\n",
      ">>> als.getMaxIter()\n",
      "5\n",
      ">>> model_path = temp_path + \"/als_model\"\n",
      ">>> model.save(model_path)\n",
      ">>> model2 = ALSModel.load(model_path)\n",
      ">>> model.rank == model2.rank\n",
      "True\n",
      ">>> sorted(model.userFactors.collect()) == sorted(model2.userFactors.collect())\n",
      "True\n",
      ">>> sorted(model.itemFactors.collect()) == sorted(model2.itemFactors.collect())\n",
      "True\n",
      ">>> model.transform(test).take(1) == model2.transform(test).take(1)\n",
      "True\n",
      "\u001b[0;31mInit docstring:\u001b[0m\n",
      "__init__(self, \\*, rank=10, maxIter=10, regParam=0.1, numUserBlocks=10,\n",
      "         numItemBlocks=10, implicitPrefs=False, alpha=1.0, userCol=\"user\", itemCol=\"item\",                  seed=None, ratingCol=\"rating\", nonnegative=False, checkpointInterval=10,                  intermediateStorageLevel=\"MEMORY_AND_DISK\",                  finalStorageLevel=\"MEMORY_AND_DISK\", coldStartStrategy=\"nan\", blockSize=4096)\n",
      "\u001b[0;31mFile:\u001b[0m           ~/miniconda3/envs/pyspark/lib/python3.12/site-packages/pyspark/ml/recommendation.py\n",
      "\u001b[0;31mType:\u001b[0m           ABCMeta\n",
      "\u001b[0;31mSubclasses:\u001b[0m     "
     ]
    }
   ],
   "source": [
    "ALS?"
   ]
  },
  {
   "cell_type": "code",
   "execution_count": 34,
   "metadata": {},
   "outputs": [],
   "source": [
    "als = ALS(\n",
    "    maxIter=5,\n",
    "    regParam=0.01,\n",
    "    userCol='userId',\n",
    "    itemCol='movieId',\n",
    "    ratingCol='rating',\n",
    ")"
   ]
  },
  {
   "cell_type": "code",
   "execution_count": 35,
   "metadata": {},
   "outputs": [],
   "source": [
    "model = als.fit(train)"
   ]
  },
  {
   "cell_type": "code",
   "execution_count": 36,
   "metadata": {},
   "outputs": [],
   "source": [
    "predictions = model.transform(test)"
   ]
  },
  {
   "cell_type": "code",
   "execution_count": 38,
   "metadata": {},
   "outputs": [
    {
     "name": "stderr",
     "output_type": "stream",
     "text": [
      "23/11/09 14:58:59 WARN SparkStringUtils: Truncated the string representation of a plan since it was too large. This behavior can be adjusted by setting 'spark.sql.debug.maxToStringFields'.\n"
     ]
    },
    {
     "name": "stdout",
     "output_type": "stream",
     "text": [
      "+-------+-----------------+------------------+------------------+------------------+\n",
      "|summary|          movieId|            rating|            userId|        prediction|\n",
      "+-------+-----------------+------------------+------------------+------------------+\n",
      "|  count|              454|               454|               454|               454|\n",
      "|   mean|48.37224669603524|1.6872246696035242|14.288546255506608|1.1732791665744544|\n",
      "| stddev|28.56154387914279|1.1676147863777637| 8.481794611081227| 1.577261698652785|\n",
      "|    min|                0|               1.0|                 0|        -3.3986764|\n",
      "|    max|               99|               5.0|                29|          8.249246|\n",
      "+-------+-----------------+------------------+------------------+------------------+\n",
      "\n"
     ]
    }
   ],
   "source": [
    "predictions.describe().show()"
   ]
  },
  {
   "cell_type": "code",
   "execution_count": 37,
   "metadata": {},
   "outputs": [
    {
     "name": "stdout",
     "output_type": "stream",
     "text": [
      "+-------+------+------+------------+\n",
      "|movieId|rating|userId|  prediction|\n",
      "+-------+------+------+------------+\n",
      "|      1|   1.0|    28| -0.78622735|\n",
      "|      2|   4.0|    28|   -2.377852|\n",
      "|      1|   1.0|    26| -0.10417879|\n",
      "|      2|   1.0|    26|   4.5013847|\n",
      "|      2|   2.0|     1|   1.8368177|\n",
      "|      0|   1.0|    13|     0.61854|\n",
      "|      0|   1.0|     6|  0.05217888|\n",
      "|      1|   1.0|     3| -0.25462055|\n",
      "|      2|   1.0|     3|  -2.5422375|\n",
      "|      0|   1.0|    20|   1.4808191|\n",
      "|      1|   1.0|    20|  -0.4175865|\n",
      "|      2|   2.0|    20|   1.0088059|\n",
      "|      0|   1.0|    19| -0.68485904|\n",
      "|      1|   4.0|    15|   1.0826527|\n",
      "|      3|   1.0|    17|   0.7915948|\n",
      "|      1|   1.0|     4|   1.9669614|\n",
      "|      3|   1.0|     7|   1.3515427|\n",
      "|      0|   3.0|    10|-0.039607756|\n",
      "|      3|   1.0|    21|  0.60002625|\n",
      "|      1|   1.0|    14|  0.71497095|\n",
      "+-------+------+------+------------+\n",
      "only showing top 20 rows\n",
      "\n"
     ]
    }
   ],
   "source": [
    "predictions.show()"
   ]
  },
  {
   "cell_type": "code",
   "execution_count": 39,
   "metadata": {},
   "outputs": [],
   "source": [
    "evaluator = RegressionEvaluator(\n",
    "    metricName='rmse',\n",
    "    labelCol='rating',\n",
    "    predictionCol='prediction'\n",
    ")"
   ]
  },
  {
   "cell_type": "code",
   "execution_count": 41,
   "metadata": {},
   "outputs": [
    {
     "data": {
      "text/plain": [
       "1.9160324823642627"
      ]
     },
     "execution_count": 41,
     "metadata": {},
     "output_type": "execute_result"
    }
   ],
   "source": [
    "rmse = evaluator.evaluate(predictions)\n",
    "rmse"
   ]
  },
  {
   "cell_type": "code",
   "execution_count": 44,
   "metadata": {},
   "outputs": [
    {
     "name": "stdout",
     "output_type": "stream",
     "text": [
      "+-------+------+\n",
      "|movieId|userId|\n",
      "+-------+------+\n",
      "|      9|    11|\n",
      "|     16|    11|\n",
      "|     20|    11|\n",
      "|     22|    11|\n",
      "|     23|    11|\n",
      "|     25|    11|\n",
      "|     27|    11|\n",
      "|     36|    11|\n",
      "|     39|    11|\n",
      "|     47|    11|\n",
      "|     62|    11|\n",
      "|     64|    11|\n",
      "|     69|    11|\n",
      "|     71|    11|\n",
      "|     75|    11|\n",
      "|     76|    11|\n",
      "|     81|    11|\n",
      "|     82|    11|\n",
      "|     86|    11|\n",
      "|     97|    11|\n",
      "+-------+------+\n",
      "\n"
     ]
    }
   ],
   "source": [
    "single_user = test.filter(test['userId'] == 11).select(['movieId', 'userId'])\n",
    "single_user.show()"
   ]
  },
  {
   "cell_type": "code",
   "execution_count": 45,
   "metadata": {},
   "outputs": [],
   "source": [
    "recommendations = model.transform(single_user)"
   ]
  },
  {
   "cell_type": "code",
   "execution_count": 46,
   "metadata": {},
   "outputs": [
    {
     "name": "stdout",
     "output_type": "stream",
     "text": [
      "+-------+------+----------+\n",
      "|movieId|userId|prediction|\n",
      "+-------+------+----------+\n",
      "|     75|    11| 6.0656123|\n",
      "|     69|    11|  4.651586|\n",
      "|     36|    11| 3.8258572|\n",
      "|     64|    11|  2.342993|\n",
      "|     82|    11| 2.0634267|\n",
      "|     22|    11| 2.0448046|\n",
      "|     76|    11| 1.8864181|\n",
      "|     71|    11|  1.804649|\n",
      "|     23|    11| 1.2146819|\n",
      "|     27|    11| 1.0672005|\n",
      "|     81|    11| 1.0047067|\n",
      "|     62|    11|0.42403275|\n",
      "|     20|    11|0.32256064|\n",
      "|     39|    11|0.26840913|\n",
      "|     86|    11|0.17163298|\n",
      "|     47|    11|-0.7469984|\n",
      "|     97|    11|-1.1183798|\n",
      "|     16|    11|-1.2208127|\n",
      "|      9|    11| -2.372209|\n",
      "|     25|    11|-2.4871178|\n",
      "+-------+------+----------+\n",
      "\n"
     ]
    }
   ],
   "source": [
    "recommendations.orderBy('prediction', ascending=False).show()"
   ]
  }
 ],
 "metadata": {
  "kernelspec": {
   "display_name": "pyspark",
   "language": "python",
   "name": "python3"
  },
  "language_info": {
   "codemirror_mode": {
    "name": "ipython",
    "version": 3
   },
   "file_extension": ".py",
   "mimetype": "text/x-python",
   "name": "python",
   "nbconvert_exporter": "python",
   "pygments_lexer": "ipython3",
   "version": "3.12.0"
  }
 },
 "nbformat": 4,
 "nbformat_minor": 2
}
