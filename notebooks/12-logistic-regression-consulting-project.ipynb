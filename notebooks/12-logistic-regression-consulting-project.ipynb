{
 "cells": [
  {
   "cell_type": "markdown",
   "metadata": {},
   "source": [
    "# Spark\n",
    "## Logistic Regression\n",
    "### Documentation example"
   ]
  },
  {
   "cell_type": "code",
   "execution_count": 1,
   "metadata": {},
   "outputs": [],
   "source": [
    "import numpy as np\n",
    "import pandas as pd\n",
    "\n",
    "import findspark\n",
    "\n",
    "from pyspark.sql import SparkSession\n",
    "import pyspark.sql.functions as F\n",
    "\n",
    "from pyspark.ml import Pipeline\n",
    "\n",
    "from pyspark.ml.feature import VectorAssembler\n",
    "from pyspark.ml.feature import VectorIndexer\n",
    "from pyspark.ml.feature import OneHotEncoder\n",
    "from pyspark.ml.feature import StringIndexer\n",
    "\n",
    "from pyspark.ml.classification import LogisticRegression\n",
    "from pyspark.ml.evaluation import BinaryClassificationEvaluator\n",
    "from pyspark.ml.evaluation import MulticlassClassificationEvaluator\n",
    "\n",
    "from pyspark.mllib.evaluation import BinaryClassificationMetrics\n",
    "\n",
    "from matplotlib import pyplot as plt\n",
    "import seaborn as sns"
   ]
  },
  {
   "cell_type": "code",
   "execution_count": 2,
   "metadata": {},
   "outputs": [],
   "source": [
    "random_seed = 1234"
   ]
  },
  {
   "cell_type": "code",
   "execution_count": 3,
   "metadata": {},
   "outputs": [],
   "source": [
    "findspark.init()\n",
    "findspark.find()\n",
    "\n",
    "%matplotlib inline\n",
    "sns.set_theme(style='darkgrid')\n",
    "sns.set_context(\"notebook\", rc={\"lines.linewidth\": 2.5})"
   ]
  },
  {
   "cell_type": "code",
   "execution_count": 4,
   "metadata": {},
   "outputs": [
    {
     "name": "stderr",
     "output_type": "stream",
     "text": [
      "your 131072x1 screen size is bogus. expect trouble\n",
      "23/11/06 12:38:39 WARN Utils: Your hostname, Diego-desktop resolves to a loopback address: 127.0.1.1; using 172.27.76.109 instead (on interface eth0)\n",
      "23/11/06 12:38:39 WARN Utils: Set SPARK_LOCAL_IP if you need to bind to another address\n",
      "Setting default log level to \"WARN\".\n",
      "To adjust logging level use sc.setLogLevel(newLevel). For SparkR, use setLogLevel(newLevel).\n",
      "23/11/06 12:38:41 WARN NativeCodeLoader: Unable to load native-hadoop library for your platform... using builtin-java classes where applicable\n"
     ]
    }
   ],
   "source": [
    "%%capture\n",
    "\n",
    "spark = SparkSession.builder.appName('logReg_consulting_project').getOrCreate()"
   ]
  },
  {
   "cell_type": "code",
   "execution_count": 5,
   "metadata": {},
   "outputs": [
    {
     "name": "stderr",
     "output_type": "stream",
     "text": [
      "[Stage 1:>                                                          (0 + 1) / 1]\r"
     ]
    },
    {
     "name": "stdout",
     "output_type": "stream",
     "text": [
      "root\n",
      " |-- Names: string (nullable = true)\n",
      " |-- Age: double (nullable = true)\n",
      " |-- Total_Purchase: double (nullable = true)\n",
      " |-- Account_Manager: integer (nullable = true)\n",
      " |-- Years: double (nullable = true)\n",
      " |-- Num_Sites: double (nullable = true)\n",
      " |-- Onboard_date: timestamp (nullable = true)\n",
      " |-- Location: string (nullable = true)\n",
      " |-- Company: string (nullable = true)\n",
      " |-- Churn: integer (nullable = true)\n",
      "\n"
     ]
    },
    {
     "name": "stderr",
     "output_type": "stream",
     "text": [
      "                                                                                \r"
     ]
    }
   ],
   "source": [
    "df = spark.read.csv('../data/customer_churn.csv', header=True, inferSchema=True)\n",
    "df.printSchema()"
   ]
  },
  {
   "cell_type": "code",
   "execution_count": 6,
   "metadata": {},
   "outputs": [
    {
     "name": "stdout",
     "output_type": "stream",
     "text": [
      "+----------------+----+--------------+---------------+-----+---------+-------------------+--------------------+--------------------+-----+\n",
      "|           Names| Age|Total_Purchase|Account_Manager|Years|Num_Sites|       Onboard_date|            Location|             Company|Churn|\n",
      "+----------------+----+--------------+---------------+-----+---------+-------------------+--------------------+--------------------+-----+\n",
      "|Cameron Williams|42.0|       11066.8|              0| 7.22|      8.0|2013-08-30 07:00:40|10265 Elizabeth M...|          Harvey LLC|    1|\n",
      "|   Kevin Mueller|41.0|      11916.22|              0|  6.5|     11.0|2013-08-13 00:38:46|6157 Frank Garden...|          Wilson PLC|    1|\n",
      "|     Eric Lozano|38.0|      12884.75|              0| 6.67|     12.0|2016-06-29 06:20:07|1331 Keith Court ...|Miller, Johnson a...|    1|\n",
      "|   Phillip White|42.0|       8010.76|              0| 6.71|     10.0|2014-04-22 12:43:12|13120 Daniel Moun...|           Smith Inc|    1|\n",
      "|  Cynthia Norton|37.0|       9191.58|              0| 5.56|      9.0|2016-01-19 15:31:15|765 Tricia Row Ka...|          Love-Jones|    1|\n",
      "+----------------+----+--------------+---------------+-----+---------+-------------------+--------------------+--------------------+-----+\n",
      "only showing top 5 rows\n",
      "\n"
     ]
    }
   ],
   "source": [
    "df.show(5)"
   ]
  },
  {
   "cell_type": "code",
   "execution_count": 7,
   "metadata": {},
   "outputs": [
    {
     "data": {
      "text/plain": [
       "['Names',\n",
       " 'Age',\n",
       " 'Total_Purchase',\n",
       " 'Account_Manager',\n",
       " 'Years',\n",
       " 'Num_Sites',\n",
       " 'Onboard_date',\n",
       " 'Location',\n",
       " 'Company',\n",
       " 'Churn']"
      ]
     },
     "execution_count": 7,
     "metadata": {},
     "output_type": "execute_result"
    }
   ],
   "source": [
    "df.columns"
   ]
  },
  {
   "cell_type": "code",
   "execution_count": 8,
   "metadata": {},
   "outputs": [],
   "source": [
    "cols = [\n",
    "    #'Names',\n",
    "    'Age',\n",
    "    'Total_Purchase',\n",
    "    'Account_Manager',\n",
    "    'Years',\n",
    "    'Num_Sites',\n",
    "    'Onboard_date',\n",
    "    #'Location',\n",
    "    #'Company',\n",
    "    'Churn',\n",
    " ]"
   ]
  },
  {
   "cell_type": "code",
   "execution_count": 9,
   "metadata": {},
   "outputs": [
    {
     "name": "stdout",
     "output_type": "stream",
     "text": [
      "+----+--------------+---------------+-----+---------+-------------------+-----+\n",
      "| Age|Total_Purchase|Account_Manager|Years|Num_Sites|       Onboard_date|Churn|\n",
      "+----+--------------+---------------+-----+---------+-------------------+-----+\n",
      "|42.0|       11066.8|              0| 7.22|      8.0|2013-08-30 07:00:40|    1|\n",
      "|41.0|      11916.22|              0|  6.5|     11.0|2013-08-13 00:38:46|    1|\n",
      "|38.0|      12884.75|              0| 6.67|     12.0|2016-06-29 06:20:07|    1|\n",
      "|42.0|       8010.76|              0| 6.71|     10.0|2014-04-22 12:43:12|    1|\n",
      "|37.0|       9191.58|              0| 5.56|      9.0|2016-01-19 15:31:15|    1|\n",
      "+----+--------------+---------------+-----+---------+-------------------+-----+\n",
      "only showing top 5 rows\n",
      "\n"
     ]
    }
   ],
   "source": [
    "df = df.select(cols)\n",
    "df.show(5)"
   ]
  },
  {
   "cell_type": "code",
   "execution_count": 10,
   "metadata": {},
   "outputs": [
    {
     "name": "stdout",
     "output_type": "stream",
     "text": [
      "+---------+-----+\n",
      "|dayOfWeek|count|\n",
      "+---------+-----+\n",
      "|        1|  101|\n",
      "|        6|  113|\n",
      "|        7|  131|\n",
      "|        2|  132|\n",
      "|        3|  135|\n",
      "|        4|  137|\n",
      "|        5|  151|\n",
      "+---------+-----+\n",
      "\n"
     ]
    }
   ],
   "source": [
    "df.select(F.dayofweek(df['Onboard_date']).alias('dayOfWeek')).groupBy('dayOfWeek').count().orderBy('count').show()"
   ]
  },
  {
   "cell_type": "code",
   "execution_count": 11,
   "metadata": {},
   "outputs": [
    {
     "name": "stdout",
     "output_type": "stream",
     "text": [
      "+-----+-----+\n",
      "|month|count|\n",
      "+-----+-----+\n",
      "|   12|   67|\n",
      "|    5|   67|\n",
      "|    7|   68|\n",
      "|   11|   69|\n",
      "|    9|   70|\n",
      "|   10|   70|\n",
      "|    4|   71|\n",
      "|    6|   72|\n",
      "|    2|   74|\n",
      "|    8|   76|\n",
      "|    1|   90|\n",
      "|    3|  106|\n",
      "+-----+-----+\n",
      "\n"
     ]
    }
   ],
   "source": [
    "df.select(F.month(df['Onboard_date']).alias('month')).groupBy('month').count().orderBy('count').show()"
   ]
  },
  {
   "cell_type": "code",
   "execution_count": 12,
   "metadata": {},
   "outputs": [
    {
     "name": "stdout",
     "output_type": "stream",
     "text": [
      "+----+--------------+---------------+-----+---------+-------------------+-----+-----------------+-------------+\n",
      "| Age|Total_Purchase|Account_Manager|Years|Num_Sites|       Onboard_date|Churn|Onboard_dayOfWeek|Onboard_month|\n",
      "+----+--------------+---------------+-----+---------+-------------------+-----+-----------------+-------------+\n",
      "|42.0|       11066.8|              0| 7.22|      8.0|2013-08-30 07:00:40|    1|                6|            8|\n",
      "|41.0|      11916.22|              0|  6.5|     11.0|2013-08-13 00:38:46|    1|                3|            8|\n",
      "|38.0|      12884.75|              0| 6.67|     12.0|2016-06-29 06:20:07|    1|                4|            6|\n",
      "|42.0|       8010.76|              0| 6.71|     10.0|2014-04-22 12:43:12|    1|                3|            4|\n",
      "|37.0|       9191.58|              0| 5.56|      9.0|2016-01-19 15:31:15|    1|                3|            1|\n",
      "+----+--------------+---------------+-----+---------+-------------------+-----+-----------------+-------------+\n",
      "only showing top 5 rows\n",
      "\n"
     ]
    }
   ],
   "source": [
    "df = df.withColumn('Onboard_dayOfWeek', F.dayofweek(df['Onboard_date']))\n",
    "df = df.withColumn('Onboard_month', F.month(df['Onboard_date']))\n",
    "\n",
    "df.show(5)"
   ]
  },
  {
   "cell_type": "code",
   "execution_count": 13,
   "metadata": {},
   "outputs": [
    {
     "data": {
      "text/plain": [
       "['Age',\n",
       " 'Total_Purchase',\n",
       " 'Account_Manager',\n",
       " 'Years',\n",
       " 'Num_Sites',\n",
       " 'Onboard_date',\n",
       " 'Churn',\n",
       " 'Onboard_dayOfWeek',\n",
       " 'Onboard_month']"
      ]
     },
     "execution_count": 13,
     "metadata": {},
     "output_type": "execute_result"
    }
   ],
   "source": [
    "df.columns"
   ]
  },
  {
   "cell_type": "code",
   "execution_count": 14,
   "metadata": {},
   "outputs": [],
   "source": [
    "features = [\n",
    "    'Age',\n",
    "    'Total_Purchase',\n",
    "    'Account_Manager',\n",
    "    'Years',\n",
    "    'Num_Sites',\n",
    "    #'Onboard_date',\n",
    "    #'Company',\n",
    "    #'Churn',\n",
    "    'Onboard_dayOfWeek',\n",
    "    'Onboard_month'\n",
    " ]\n",
    "\n",
    "target = 'Churn'"
   ]
  },
  {
   "cell_type": "code",
   "execution_count": 15,
   "metadata": {},
   "outputs": [
    {
     "name": "stdout",
     "output_type": "stream",
     "text": [
      "Correlation with Churn\n",
      "\tAge : 0.08592553706723392\n",
      "\tTotal_Purchase : 0.02403089451822047\n",
      "\tAccount_Manager : 0.07061077173214911\n",
      "\tYears : 0.2143285801724283\n",
      "\tNum_Sites : 0.5253980778988574\n",
      "\tOnboard_dayOfWeek : -0.0036063937243955946\n",
      "\tOnboard_month : 0.01908032165223663\n"
     ]
    }
   ],
   "source": [
    "print(f'Correlation with {target}')\n",
    "for feature in features:\n",
    "    corr_val = df.select(F.corr(target, feature)).collect()[0][0]\n",
    "    print(f'\\t{feature} : {corr_val}')"
   ]
  },
  {
   "cell_type": "code",
   "execution_count": 16,
   "metadata": {},
   "outputs": [],
   "source": [
    "dayOfWeek_encoder = OneHotEncoder(inputCol='Onboard_dayOfWeek', outputCol='dayOfWeek_Vec')\n",
    "month_encoder = OneHotEncoder(inputCol='Onboard_month', outputCol='month_Vec')\n",
    "manager_encoder = OneHotEncoder(inputCol='Account_Manager', outputCol='manager_Vec')"
   ]
  },
  {
   "cell_type": "code",
   "execution_count": 17,
   "metadata": {},
   "outputs": [],
   "source": [
    "features = [\n",
    "    'Age',\n",
    "    'Total_Purchase',\n",
    "    #'Account_Manager',\n",
    "    'Years',\n",
    "    'Num_Sites',\n",
    "    #'Onboard_date',\n",
    "    #'Company',\n",
    "    #'Churn',\n",
    "    #'Onboard_dayOfWeek',\n",
    "    #'Onboard_month',\n",
    "    #'dayOfWeek_Vec',\n",
    "    #'month_Vec',\n",
    "    'manager_Vec',\n",
    " ]"
   ]
  },
  {
   "cell_type": "code",
   "execution_count": 18,
   "metadata": {},
   "outputs": [],
   "source": [
    "assembler = VectorAssembler(\n",
    "    inputCols=features,\n",
    "    outputCol='features'\n",
    ")"
   ]
  },
  {
   "cell_type": "code",
   "execution_count": 19,
   "metadata": {},
   "outputs": [
    {
     "name": "stdout",
     "output_type": "stream",
     "text": [
      "\u001b[0;31mInit signature:\u001b[0m\n",
      "\u001b[0mLogisticRegression\u001b[0m\u001b[0;34m(\u001b[0m\u001b[0;34m\u001b[0m\n",
      "\u001b[0;34m\u001b[0m    \u001b[0;34m*\u001b[0m\u001b[0;34m,\u001b[0m\u001b[0;34m\u001b[0m\n",
      "\u001b[0;34m\u001b[0m    \u001b[0mfeaturesCol\u001b[0m\u001b[0;34m:\u001b[0m \u001b[0mstr\u001b[0m \u001b[0;34m=\u001b[0m \u001b[0;34m'features'\u001b[0m\u001b[0;34m,\u001b[0m\u001b[0;34m\u001b[0m\n",
      "\u001b[0;34m\u001b[0m    \u001b[0mlabelCol\u001b[0m\u001b[0;34m:\u001b[0m \u001b[0mstr\u001b[0m \u001b[0;34m=\u001b[0m \u001b[0;34m'label'\u001b[0m\u001b[0;34m,\u001b[0m\u001b[0;34m\u001b[0m\n",
      "\u001b[0;34m\u001b[0m    \u001b[0mpredictionCol\u001b[0m\u001b[0;34m:\u001b[0m \u001b[0mstr\u001b[0m \u001b[0;34m=\u001b[0m \u001b[0;34m'prediction'\u001b[0m\u001b[0;34m,\u001b[0m\u001b[0;34m\u001b[0m\n",
      "\u001b[0;34m\u001b[0m    \u001b[0mmaxIter\u001b[0m\u001b[0;34m:\u001b[0m \u001b[0mint\u001b[0m \u001b[0;34m=\u001b[0m \u001b[0;36m100\u001b[0m\u001b[0;34m,\u001b[0m\u001b[0;34m\u001b[0m\n",
      "\u001b[0;34m\u001b[0m    \u001b[0mregParam\u001b[0m\u001b[0;34m:\u001b[0m \u001b[0mfloat\u001b[0m \u001b[0;34m=\u001b[0m \u001b[0;36m0.0\u001b[0m\u001b[0;34m,\u001b[0m\u001b[0;34m\u001b[0m\n",
      "\u001b[0;34m\u001b[0m    \u001b[0melasticNetParam\u001b[0m\u001b[0;34m:\u001b[0m \u001b[0mfloat\u001b[0m \u001b[0;34m=\u001b[0m \u001b[0;36m0.0\u001b[0m\u001b[0;34m,\u001b[0m\u001b[0;34m\u001b[0m\n",
      "\u001b[0;34m\u001b[0m    \u001b[0mtol\u001b[0m\u001b[0;34m:\u001b[0m \u001b[0mfloat\u001b[0m \u001b[0;34m=\u001b[0m \u001b[0;36m1e-06\u001b[0m\u001b[0;34m,\u001b[0m\u001b[0;34m\u001b[0m\n",
      "\u001b[0;34m\u001b[0m    \u001b[0mfitIntercept\u001b[0m\u001b[0;34m:\u001b[0m \u001b[0mbool\u001b[0m \u001b[0;34m=\u001b[0m \u001b[0;32mTrue\u001b[0m\u001b[0;34m,\u001b[0m\u001b[0;34m\u001b[0m\n",
      "\u001b[0;34m\u001b[0m    \u001b[0mthreshold\u001b[0m\u001b[0;34m:\u001b[0m \u001b[0mfloat\u001b[0m \u001b[0;34m=\u001b[0m \u001b[0;36m0.5\u001b[0m\u001b[0;34m,\u001b[0m\u001b[0;34m\u001b[0m\n",
      "\u001b[0;34m\u001b[0m    \u001b[0mthresholds\u001b[0m\u001b[0;34m:\u001b[0m \u001b[0mOptional\u001b[0m\u001b[0;34m[\u001b[0m\u001b[0mList\u001b[0m\u001b[0;34m[\u001b[0m\u001b[0mfloat\u001b[0m\u001b[0;34m]\u001b[0m\u001b[0;34m]\u001b[0m \u001b[0;34m=\u001b[0m \u001b[0;32mNone\u001b[0m\u001b[0;34m,\u001b[0m\u001b[0;34m\u001b[0m\n",
      "\u001b[0;34m\u001b[0m    \u001b[0mprobabilityCol\u001b[0m\u001b[0;34m:\u001b[0m \u001b[0mstr\u001b[0m \u001b[0;34m=\u001b[0m \u001b[0;34m'probability'\u001b[0m\u001b[0;34m,\u001b[0m\u001b[0;34m\u001b[0m\n",
      "\u001b[0;34m\u001b[0m    \u001b[0mrawPredictionCol\u001b[0m\u001b[0;34m:\u001b[0m \u001b[0mstr\u001b[0m \u001b[0;34m=\u001b[0m \u001b[0;34m'rawPrediction'\u001b[0m\u001b[0;34m,\u001b[0m\u001b[0;34m\u001b[0m\n",
      "\u001b[0;34m\u001b[0m    \u001b[0mstandardization\u001b[0m\u001b[0;34m:\u001b[0m \u001b[0mbool\u001b[0m \u001b[0;34m=\u001b[0m \u001b[0;32mTrue\u001b[0m\u001b[0;34m,\u001b[0m\u001b[0;34m\u001b[0m\n",
      "\u001b[0;34m\u001b[0m    \u001b[0mweightCol\u001b[0m\u001b[0;34m:\u001b[0m \u001b[0mOptional\u001b[0m\u001b[0;34m[\u001b[0m\u001b[0mstr\u001b[0m\u001b[0;34m]\u001b[0m \u001b[0;34m=\u001b[0m \u001b[0;32mNone\u001b[0m\u001b[0;34m,\u001b[0m\u001b[0;34m\u001b[0m\n",
      "\u001b[0;34m\u001b[0m    \u001b[0maggregationDepth\u001b[0m\u001b[0;34m:\u001b[0m \u001b[0mint\u001b[0m \u001b[0;34m=\u001b[0m \u001b[0;36m2\u001b[0m\u001b[0;34m,\u001b[0m\u001b[0;34m\u001b[0m\n",
      "\u001b[0;34m\u001b[0m    \u001b[0mfamily\u001b[0m\u001b[0;34m:\u001b[0m \u001b[0mstr\u001b[0m \u001b[0;34m=\u001b[0m \u001b[0;34m'auto'\u001b[0m\u001b[0;34m,\u001b[0m\u001b[0;34m\u001b[0m\n",
      "\u001b[0;34m\u001b[0m    \u001b[0mlowerBoundsOnCoefficients\u001b[0m\u001b[0;34m:\u001b[0m \u001b[0mOptional\u001b[0m\u001b[0;34m[\u001b[0m\u001b[0mpyspark\u001b[0m\u001b[0;34m.\u001b[0m\u001b[0mml\u001b[0m\u001b[0;34m.\u001b[0m\u001b[0mlinalg\u001b[0m\u001b[0;34m.\u001b[0m\u001b[0mMatrix\u001b[0m\u001b[0;34m]\u001b[0m \u001b[0;34m=\u001b[0m \u001b[0;32mNone\u001b[0m\u001b[0;34m,\u001b[0m\u001b[0;34m\u001b[0m\n",
      "\u001b[0;34m\u001b[0m    \u001b[0mupperBoundsOnCoefficients\u001b[0m\u001b[0;34m:\u001b[0m \u001b[0mOptional\u001b[0m\u001b[0;34m[\u001b[0m\u001b[0mpyspark\u001b[0m\u001b[0;34m.\u001b[0m\u001b[0mml\u001b[0m\u001b[0;34m.\u001b[0m\u001b[0mlinalg\u001b[0m\u001b[0;34m.\u001b[0m\u001b[0mMatrix\u001b[0m\u001b[0;34m]\u001b[0m \u001b[0;34m=\u001b[0m \u001b[0;32mNone\u001b[0m\u001b[0;34m,\u001b[0m\u001b[0;34m\u001b[0m\n",
      "\u001b[0;34m\u001b[0m    \u001b[0mlowerBoundsOnIntercepts\u001b[0m\u001b[0;34m:\u001b[0m \u001b[0mOptional\u001b[0m\u001b[0;34m[\u001b[0m\u001b[0mpyspark\u001b[0m\u001b[0;34m.\u001b[0m\u001b[0mml\u001b[0m\u001b[0;34m.\u001b[0m\u001b[0mlinalg\u001b[0m\u001b[0;34m.\u001b[0m\u001b[0mVector\u001b[0m\u001b[0;34m]\u001b[0m \u001b[0;34m=\u001b[0m \u001b[0;32mNone\u001b[0m\u001b[0;34m,\u001b[0m\u001b[0;34m\u001b[0m\n",
      "\u001b[0;34m\u001b[0m    \u001b[0mupperBoundsOnIntercepts\u001b[0m\u001b[0;34m:\u001b[0m \u001b[0mOptional\u001b[0m\u001b[0;34m[\u001b[0m\u001b[0mpyspark\u001b[0m\u001b[0;34m.\u001b[0m\u001b[0mml\u001b[0m\u001b[0;34m.\u001b[0m\u001b[0mlinalg\u001b[0m\u001b[0;34m.\u001b[0m\u001b[0mVector\u001b[0m\u001b[0;34m]\u001b[0m \u001b[0;34m=\u001b[0m \u001b[0;32mNone\u001b[0m\u001b[0;34m,\u001b[0m\u001b[0;34m\u001b[0m\n",
      "\u001b[0;34m\u001b[0m    \u001b[0mmaxBlockSizeInMB\u001b[0m\u001b[0;34m:\u001b[0m \u001b[0mfloat\u001b[0m \u001b[0;34m=\u001b[0m \u001b[0;36m0.0\u001b[0m\u001b[0;34m,\u001b[0m\u001b[0;34m\u001b[0m\n",
      "\u001b[0;34m\u001b[0m\u001b[0;34m)\u001b[0m\u001b[0;34m\u001b[0m\u001b[0;34m\u001b[0m\u001b[0m\n",
      "\u001b[0;31mDocstring:\u001b[0m     \n",
      "Logistic regression.\n",
      "This class supports multinomial logistic (softmax) and binomial logistic regression.\n",
      "\n",
      ".. versionadded:: 1.3.0\n",
      "\n",
      "Examples\n",
      "--------\n",
      ">>> from pyspark.sql import Row\n",
      ">>> from pyspark.ml.linalg import Vectors\n",
      ">>> bdf = sc.parallelize([\n",
      "...     Row(label=1.0, weight=1.0, features=Vectors.dense(0.0, 5.0)),\n",
      "...     Row(label=0.0, weight=2.0, features=Vectors.dense(1.0, 2.0)),\n",
      "...     Row(label=1.0, weight=3.0, features=Vectors.dense(2.0, 1.0)),\n",
      "...     Row(label=0.0, weight=4.0, features=Vectors.dense(3.0, 3.0))]).toDF()\n",
      ">>> blor = LogisticRegression(weightCol=\"weight\")\n",
      ">>> blor.getRegParam()\n",
      "0.0\n",
      ">>> blor.setRegParam(0.01)\n",
      "LogisticRegression...\n",
      ">>> blor.getRegParam()\n",
      "0.01\n",
      ">>> blor.setMaxIter(10)\n",
      "LogisticRegression...\n",
      ">>> blor.getMaxIter()\n",
      "10\n",
      ">>> blor.clear(blor.maxIter)\n",
      ">>> blorModel = blor.fit(bdf)\n",
      ">>> blorModel.setFeaturesCol(\"features\")\n",
      "LogisticRegressionModel...\n",
      ">>> blorModel.setProbabilityCol(\"newProbability\")\n",
      "LogisticRegressionModel...\n",
      ">>> blorModel.getProbabilityCol()\n",
      "'newProbability'\n",
      ">>> blorModel.getMaxBlockSizeInMB()\n",
      "0.0\n",
      ">>> blorModel.setThreshold(0.1)\n",
      "LogisticRegressionModel...\n",
      ">>> blorModel.getThreshold()\n",
      "0.1\n",
      ">>> blorModel.coefficients\n",
      "DenseVector([-1.080..., -0.646...])\n",
      ">>> blorModel.intercept\n",
      "3.112...\n",
      ">>> blorModel.evaluate(bdf).accuracy == blorModel.summary.accuracy\n",
      "True\n",
      ">>> data_path = \"data/mllib/sample_multiclass_classification_data.txt\"\n",
      ">>> mdf = spark.read.format(\"libsvm\").load(data_path)\n",
      ">>> mlor = LogisticRegression(regParam=0.1, elasticNetParam=1.0, family=\"multinomial\")\n",
      ">>> mlorModel = mlor.fit(mdf)\n",
      ">>> mlorModel.coefficientMatrix\n",
      "SparseMatrix(3, 4, [0, 1, 2, 3], [3, 2, 1], [1.87..., -2.75..., -0.50...], 1)\n",
      ">>> mlorModel.interceptVector\n",
      "DenseVector([0.04..., -0.42..., 0.37...])\n",
      ">>> test0 = sc.parallelize([Row(features=Vectors.dense(-1.0, 1.0))]).toDF()\n",
      ">>> blorModel.predict(test0.head().features)\n",
      "1.0\n",
      ">>> blorModel.predictRaw(test0.head().features)\n",
      "DenseVector([-3.54..., 3.54...])\n",
      ">>> blorModel.predictProbability(test0.head().features)\n",
      "DenseVector([0.028, 0.972])\n",
      ">>> result = blorModel.transform(test0).head()\n",
      ">>> result.prediction\n",
      "1.0\n",
      ">>> result.newProbability\n",
      "DenseVector([0.02..., 0.97...])\n",
      ">>> result.rawPrediction\n",
      "DenseVector([-3.54..., 3.54...])\n",
      ">>> test1 = sc.parallelize([Row(features=Vectors.sparse(2, [0], [1.0]))]).toDF()\n",
      ">>> blorModel.transform(test1).head().prediction\n",
      "1.0\n",
      ">>> blor.setParams(\"vector\")\n",
      "Traceback (most recent call last):\n",
      "    ...\n",
      "TypeError: Method setParams forces keyword arguments.\n",
      ">>> lr_path = temp_path + \"/lr\"\n",
      ">>> blor.save(lr_path)\n",
      ">>> lr2 = LogisticRegression.load(lr_path)\n",
      ">>> lr2.getRegParam()\n",
      "0.01\n",
      ">>> model_path = temp_path + \"/lr_model\"\n",
      ">>> blorModel.save(model_path)\n",
      ">>> model2 = LogisticRegressionModel.load(model_path)\n",
      ">>> blorModel.coefficients[0] == model2.coefficients[0]\n",
      "True\n",
      ">>> blorModel.intercept == model2.intercept\n",
      "True\n",
      ">>> model2\n",
      "LogisticRegressionModel: uid=..., numClasses=2, numFeatures=2\n",
      ">>> blorModel.transform(test0).take(1) == model2.transform(test0).take(1)\n",
      "True\n",
      "\u001b[0;31mInit docstring:\u001b[0m\n",
      "__init__(self, \\*, featuresCol=\"features\", labelCol=\"label\", predictionCol=\"prediction\",                  maxIter=100, regParam=0.0, elasticNetParam=0.0, tol=1e-6, fitIntercept=True,                  threshold=0.5, thresholds=None, probabilityCol=\"probability\",                  rawPredictionCol=\"rawPrediction\", standardization=True, weightCol=None,                  aggregationDepth=2, family=\"auto\",                  lowerBoundsOnCoefficients=None, upperBoundsOnCoefficients=None,                  lowerBoundsOnIntercepts=None, upperBoundsOnIntercepts=None,                  maxBlockSizeInMB=0.0):\n",
      "If the threshold and thresholds Params are both set, they must be equivalent.\n",
      "\u001b[0;31mFile:\u001b[0m           ~/miniconda3/envs/pyspark/lib/python3.12/site-packages/pyspark/ml/classification.py\n",
      "\u001b[0;31mType:\u001b[0m           ABCMeta\n",
      "\u001b[0;31mSubclasses:\u001b[0m     "
     ]
    }
   ],
   "source": [
    "LogisticRegression?"
   ]
  },
  {
   "cell_type": "code",
   "execution_count": 20,
   "metadata": {},
   "outputs": [],
   "source": [
    "model = LogisticRegression(\n",
    "    featuresCol='features',\n",
    "    labelCol=target\n",
    ")"
   ]
  },
  {
   "cell_type": "code",
   "execution_count": 21,
   "metadata": {},
   "outputs": [],
   "source": [
    "pipeline = Pipeline(\n",
    "    stages=[\n",
    "        #dayOfWeek_encoder,\n",
    "        #month_encoder,\n",
    "        manager_encoder,\n",
    "        assembler,\n",
    "        model\n",
    "    ]\n",
    ")"
   ]
  },
  {
   "cell_type": "code",
   "execution_count": 22,
   "metadata": {},
   "outputs": [],
   "source": [
    "df_zeros = df.filter(df[target] == 0)\n",
    "df_ones = df.filter(df[target] == 1)\n",
    "\n",
    "train_zeros, test_zeros = df_zeros.randomSplit([0.7, 0.3], seed=random_seed)\n",
    "train_ones, test_ones = df_ones.randomSplit([0.7, 0.3], seed=random_seed)\n",
    "\n",
    "train = train_zeros.union(train_ones)\n",
    "test = test_zeros.union(test_ones)"
   ]
  },
  {
   "cell_type": "code",
   "execution_count": 23,
   "metadata": {},
   "outputs": [
    {
     "name": "stderr",
     "output_type": "stream",
     "text": [
      "                                                                                \r"
     ]
    }
   ],
   "source": [
    "model_fit = pipeline.fit(train)"
   ]
  },
  {
   "cell_type": "code",
   "execution_count": 24,
   "metadata": {},
   "outputs": [],
   "source": [
    "results = model_fit.transform(test)"
   ]
  },
  {
   "cell_type": "code",
   "execution_count": 25,
   "metadata": {},
   "outputs": [],
   "source": [
    "model_eval = BinaryClassificationEvaluator(rawPredictionCol='prediction', labelCol=target)"
   ]
  },
  {
   "cell_type": "code",
   "execution_count": 26,
   "metadata": {},
   "outputs": [
    {
     "name": "stdout",
     "output_type": "stream",
     "text": [
      "+-----+----------+\n",
      "|Churn|prediction|\n",
      "+-----+----------+\n",
      "|    0|       0.0|\n",
      "|    0|       0.0|\n",
      "|    0|       0.0|\n",
      "|    0|       0.0|\n",
      "|    0|       0.0|\n",
      "|    0|       0.0|\n",
      "|    0|       0.0|\n",
      "|    0|       0.0|\n",
      "|    0|       0.0|\n",
      "|    0|       0.0|\n",
      "|    0|       0.0|\n",
      "|    0|       0.0|\n",
      "|    0|       0.0|\n",
      "|    0|       0.0|\n",
      "|    0|       0.0|\n",
      "|    0|       0.0|\n",
      "|    0|       0.0|\n",
      "|    0|       0.0|\n",
      "|    0|       0.0|\n",
      "|    0|       0.0|\n",
      "+-----+----------+\n",
      "only showing top 20 rows\n",
      "\n"
     ]
    }
   ],
   "source": [
    "results.select(target, 'prediction').show()"
   ]
  },
  {
   "cell_type": "code",
   "execution_count": 27,
   "metadata": {},
   "outputs": [
    {
     "name": "stdout",
     "output_type": "stream",
     "text": [
      "+-----+-----+\n",
      "|Churn|count|\n",
      "+-----+-----+\n",
      "|    0|  222|\n",
      "|    1|   51|\n",
      "+-----+-----+\n",
      "\n"
     ]
    }
   ],
   "source": [
    "results.groupBy(target).count().show()"
   ]
  },
  {
   "cell_type": "code",
   "execution_count": 28,
   "metadata": {},
   "outputs": [
    {
     "name": "stdout",
     "output_type": "stream",
     "text": [
      "+----------+-----+\n",
      "|prediction|count|\n",
      "+----------+-----+\n",
      "|       0.0|  240|\n",
      "|       1.0|   33|\n",
      "+----------+-----+\n",
      "\n"
     ]
    }
   ],
   "source": [
    "results.groupBy('prediction').count().show()"
   ]
  },
  {
   "cell_type": "code",
   "execution_count": 29,
   "metadata": {},
   "outputs": [
    {
     "data": {
      "text/plain": [
       "0.7511923688394276"
      ]
     },
     "execution_count": 29,
     "metadata": {},
     "output_type": "execute_result"
    }
   ],
   "source": [
    "AUC = model_eval.evaluate(results)\n",
    "AUC"
   ]
  },
  {
   "cell_type": "markdown",
   "metadata": {},
   "source": [
    "___________"
   ]
  },
  {
   "cell_type": "code",
   "execution_count": 54,
   "metadata": {},
   "outputs": [],
   "source": [
    "iters = 11\n",
    "lambda_list = np.linspace(0, 1, iters)\n",
    "\n",
    "model_list = []\n",
    "AUC_list = []\n",
    "\n",
    "for i, lamb in enumerate(lambda_list):\n",
    "    \n",
    "    model = LogisticRegression(\n",
    "        featuresCol='features',\n",
    "        labelCol=target,\n",
    "        predictionCol='prediction',\n",
    "        elasticNetParam=0,\n",
    "        threshold=lamb,\n",
    "    )\n",
    "    \n",
    "    pipeline = Pipeline(\n",
    "        stages=[\n",
    "            #dayOfWeek_encoder,\n",
    "            #month_encoder,\n",
    "            manager_encoder,\n",
    "            assembler,\n",
    "            model\n",
    "        ]\n",
    "    )\n",
    "    \n",
    "    model_fit = pipeline.fit(train)\n",
    "    \n",
    "    results = model_fit.transform(test)\n",
    "    \n",
    "    model_eval = BinaryClassificationEvaluator(rawPredictionCol='prediction', labelCol=target)\n",
    "    \n",
    "    AUC = model_eval.evaluate(results)\n",
    "    \n",
    "    AUC_list.append(AUC)"
   ]
  },
  {
   "cell_type": "code",
   "execution_count": 55,
   "metadata": {},
   "outputs": [],
   "source": [
    "from operator import itemgetter\n",
    "\n",
    "AUX_max_index, AUX_max = max(enumerate(AUC_list), key=itemgetter(1))\n",
    "\n",
    "best_lamb = lambda_list[AUX_max_index]"
   ]
  },
  {
   "cell_type": "code",
   "execution_count": 56,
   "metadata": {},
   "outputs": [
    {
     "data": {
      "text/plain": [
       "2"
      ]
     },
     "execution_count": 56,
     "metadata": {},
     "output_type": "execute_result"
    }
   ],
   "source": [
    "AUX_max_index"
   ]
  },
  {
   "cell_type": "code",
   "execution_count": 57,
   "metadata": {},
   "outputs": [
    {
     "data": {
      "image/png": "[encoded data removed]",
      "text/plain": [
       "<Figure size 800x600 with 1 Axes>"
      ]
     },
     "metadata": {},
     "output_type": "display_data"
    }
   ],
   "source": [
    "fig, ax = plt.subplots(figsize=(8, 6))\n",
    "\n",
    "ax.plot(lambda_list, AUC_list, linewidth=2, label='Train')\n",
    "\n",
    "ax.axvline(x=best_lamb, color=\"tab:gray\", linestyle=\"--\")\n",
    "\n",
    "#ax.set_xscale('log')\n",
    "ax.set_ylabel('AUC', size=14)\n",
    "ax.set_xlabel('threshold', size=14)\n",
    "\n",
    "plt.legend()\n",
    "plt.show()"
   ]
  },
  {
   "cell_type": "code",
   "execution_count": 58,
   "metadata": {},
   "outputs": [],
   "source": [
    "train_all = train.union(test)"
   ]
  },
  {
   "cell_type": "code",
   "execution_count": 59,
   "metadata": {},
   "outputs": [],
   "source": [
    "model = LogisticRegression(\n",
    "    featuresCol='features',\n",
    "    labelCol=target,\n",
    "    predictionCol='prediction',\n",
    "    elasticNetParam=0,\n",
    "    threshold=best_lamb,\n",
    ")\n",
    "\n",
    "pipeline = Pipeline(\n",
    "    stages=[\n",
    "        #dayOfWeek_encoder,\n",
    "        #month_encoder,\n",
    "        manager_encoder,\n",
    "        assembler,\n",
    "        model\n",
    "    ]\n",
    ")"
   ]
  },
  {
   "cell_type": "code",
   "execution_count": 60,
   "metadata": {},
   "outputs": [
    {
     "name": "stdout",
     "output_type": "stream",
     "text": [
      "root\n",
      " |-- Names: string (nullable = true)\n",
      " |-- Age: double (nullable = true)\n",
      " |-- Total_Purchase: double (nullable = true)\n",
      " |-- Account_Manager: integer (nullable = true)\n",
      " |-- Years: double (nullable = true)\n",
      " |-- Num_Sites: double (nullable = true)\n",
      " |-- Onboard_date: timestamp (nullable = true)\n",
      " |-- Location: string (nullable = true)\n",
      " |-- Company: string (nullable = true)\n",
      "\n"
     ]
    }
   ],
   "source": [
    "df_new = spark.read.csv('../data/new_customers.csv', header=True, inferSchema=True)\n",
    "df_new.printSchema()"
   ]
  },
  {
   "cell_type": "code",
   "execution_count": 61,
   "metadata": {},
   "outputs": [],
   "source": [
    "model_fit = pipeline.fit(train_all)\n",
    "\n",
    "results = model_fit.transform(df_new)\n",
    "\n",
    "#model_eval = BinaryClassificationEvaluator(rawPredictionCol='prediction', labelCol=target)\n",
    "\n",
    "#AUC = model_eval.evaluate(results)\n",
    "\n",
    "#AUC"
   ]
  },
  {
   "cell_type": "code",
   "execution_count": 62,
   "metadata": {},
   "outputs": [
    {
     "name": "stdout",
     "output_type": "stream",
     "text": [
      "+--------------+----+--------------+---------------+-----+---------+-------------------+--------------------+----------------+-------------+--------------------+--------------------+--------------------+----------+\n",
      "|         Names| Age|Total_Purchase|Account_Manager|Years|Num_Sites|       Onboard_date|            Location|         Company|  manager_Vec|            features|       rawPrediction|         probability|prediction|\n",
      "+--------------+----+--------------+---------------+-----+---------+-------------------+--------------------+----------------+-------------+--------------------+--------------------+--------------------+----------+\n",
      "| Andrew Mccall|37.0|       9935.53|              1| 7.71|      8.0|2011-08-29 18:37:54|38612 Johnny Stra...|        King Ltd|    (1,[],[])|[37.0,9935.53,7.7...|[2.22168680572549...|[0.90218015921765...|       0.0|\n",
      "|Michele Wright|23.0|       7526.94|              1| 9.28|     15.0|2013-07-22 18:19:54|21083 Nicole Junc...|   Cannon-Benson|    (1,[],[])|[23.0,7526.94,9.2...|[-6.2207539991845...|[0.00198380259784...|       1.0|\n",
      "|  Jeremy Chang|65.0|         100.0|              1|  1.0|     15.0|2006-12-11 07:48:13|085 Austin Views ...|Barron-Robertson|    (1,[],[])|[65.0,100.0,1.0,1...|[-3.7691606662874...|[0.02255113312433...|       1.0|\n",
      "|Megan Ferguson|32.0|        6487.5|              0|  9.4|     14.0|2016-10-28 05:32:13|922 Wright Branch...|   Sexton-Golden|(1,[0],[1.0])|[32.0,6487.5,9.4,...|[-5.0956231362739...|[0.00608622076714...|       1.0|\n",
      "|  Taylor Young|32.0|      13147.71|              1| 10.0|      8.0|2012-03-20 00:36:46|Unit 0789 Box 073...|        Wood LLC|    (1,[],[])|[32.0,13147.71,10...|[1.10475806383310...|[0.75115056144899...|       1.0|\n",
      "| Jessica Drake|22.0|       8445.26|              1| 3.46|     14.0|2011-02-04 19:29:27|1148 Tina Straven...|   Parks-Robbins|    (1,[],[])|[22.0,8445.26,3.4...|[-1.6896020251072...|[0.15582818486369...|       1.0|\n",
      "+--------------+----+--------------+---------------+-----+---------+-------------------+--------------------+----------------+-------------+--------------------+--------------------+--------------------+----------+\n",
      "\n"
     ]
    }
   ],
   "source": [
    "results.show()"
   ]
  },
  {
   "cell_type": "code",
   "execution_count": 63,
   "metadata": {},
   "outputs": [
    {
     "name": "stdout",
     "output_type": "stream",
     "text": [
      "+----------------+----------+\n",
      "|         Company|prediction|\n",
      "+----------------+----------+\n",
      "|        King Ltd|       0.0|\n",
      "|   Cannon-Benson|       1.0|\n",
      "|Barron-Robertson|       1.0|\n",
      "|   Sexton-Golden|       1.0|\n",
      "|        Wood LLC|       1.0|\n",
      "|   Parks-Robbins|       1.0|\n",
      "+----------------+----------+\n",
      "\n"
     ]
    }
   ],
   "source": [
    "results.select('Company', 'prediction').show()"
   ]
  },
  {
   "cell_type": "code",
   "execution_count": 64,
   "metadata": {},
   "outputs": [
    {
     "data": {
      "text/plain": [
       "Row(probability=DenseVector([0.9022, 0.0978]))"
      ]
     },
     "execution_count": 64,
     "metadata": {},
     "output_type": "execute_result"
    }
   ],
   "source": [
    "results.select('probability').collect()[0]"
   ]
  }
 ],
 "metadata": {
  "kernelspec": {
   "display_name": "venv",
   "language": "python",
   "name": "python3"
  },
  "language_info": {
   "codemirror_mode": {
    "name": "ipython",
    "version": 3
   },
   "file_extension": ".py",
   "mimetype": "text/x-python",
   "name": "python",
   "nbconvert_exporter": "python",
   "pygments_lexer": "ipython3",
   "version": "3.12.0"
  }
 },
 "nbformat": 4,
 "nbformat_minor": 2
}
