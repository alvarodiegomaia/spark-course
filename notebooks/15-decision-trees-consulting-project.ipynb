{
 "cells": [
  {
   "cell_type": "markdown",
   "metadata": {},
   "source": [
    "# Spark\n",
    "## Decision trees\n",
    "### Consulting project"
   ]
  },
  {
   "cell_type": "code",
   "execution_count": 2,
   "metadata": {},
   "outputs": [],
   "source": [
    "from tqdm.notebook import tqdm\n",
    "\n",
    "import numpy as np\n",
    "import pandas as pd\n",
    "\n",
    "import findspark\n",
    "\n",
    "from pyspark import SparkConf\n",
    "from pyspark import SparkContext\n",
    "\n",
    "from pyspark.sql import SparkSession\n",
    "import pyspark.sql.functions as F\n",
    "\n",
    "from pyspark.ml import Pipeline\n",
    "\n",
    "from pyspark.ml.feature import VectorAssembler\n",
    "from pyspark.ml.feature import VectorIndexer\n",
    "from pyspark.ml.feature import OneHotEncoder\n",
    "from pyspark.ml.feature import StringIndexer\n",
    "\n",
    "from pyspark.ml.classification import DecisionTreeClassifier\n",
    "from pyspark.ml.classification import RandomForestClassifier\n",
    "from pyspark.ml.classification import GBTClassifier\n",
    "\n",
    "from pyspark.ml.evaluation import MulticlassClassificationEvaluator\n",
    "from pyspark.ml.evaluation import BinaryClassificationEvaluator\n",
    "\n",
    "from pyspark.mllib.evaluation import BinaryClassificationMetrics\n",
    "\n",
    "from matplotlib import pyplot as plt\n",
    "import seaborn as sns\n",
    "\n",
    "import optuna"
   ]
  },
  {
   "cell_type": "code",
   "execution_count": 3,
   "metadata": {},
   "outputs": [],
   "source": [
    "findspark.init()\n",
    "findspark.find()\n",
    "\n",
    "%matplotlib inline\n",
    "sns.set_theme(style='darkgrid')\n",
    "sns.set_context(\"notebook\", rc={\"lines.linewidth\": 2.5})"
   ]
  },
  {
   "cell_type": "code",
   "execution_count": 4,
   "metadata": {},
   "outputs": [],
   "source": [
    "random_seed = 0"
   ]
  },
  {
   "cell_type": "code",
   "execution_count": 5,
   "metadata": {},
   "outputs": [],
   "source": [
    "conf = SparkConf().setAppName(\"MyApp\") \\\n",
    "    .setMaster('local') \\\n",
    "    .set('spark.executor.memory', '8g') \\\n",
    "    .set('spark.driver.maxResultSize', '8g') \\\n",
    "    .set(\"spark.memory.fraction\", \"0.6\") \\\n",
    "    .set(\"spark.memory.storageFraction\", \"0.5\") \\\n",
    "    .set(\"spark.sql.shuffle.partitions\", \"5\") \\\n",
    "    .set(\"spark.memory.offHeap.enabled\", \"false\") \\\n",
    "    .set(\"spark.reducer.maxSizeInFlight\", \"96m\") \\\n",
    "    .set(\"spark.shuffle.file.buffer\", \"256k\") \\\n",
    "    .set(\"spark.sql.debug.maxToStringFields\", \"100\") \\\n",
    "    .set('spark.sql.autoBroadcastJoinThreshold', '-1')"
   ]
  },
  {
   "cell_type": "code",
   "execution_count": 6,
   "metadata": {},
   "outputs": [
    {
     "name": "stderr",
     "output_type": "stream",
     "text": [
      "your 131072x1 screen size is bogus. expect trouble\n",
      "23/11/07 22:16:24 WARN Utils: Your hostname, Diego-desktop resolves to a loopback address: 127.0.1.1; using 172.27.76.109 instead (on interface eth0)\n",
      "23/11/07 22:16:24 WARN Utils: Set SPARK_LOCAL_IP if you need to bind to another address\n",
      "Setting default log level to \"WARN\".\n",
      "To adjust logging level use sc.setLogLevel(newLevel). For SparkR, use setLogLevel(newLevel).\n",
      "23/11/07 22:16:26 WARN NativeCodeLoader: Unable to load native-hadoop library for your platform... using builtin-java classes where applicable\n"
     ]
    }
   ],
   "source": [
    "%%capture\n",
    "\n",
    "spark = SparkSession.builder.config(conf=conf).getOrCreate()"
   ]
  },
  {
   "cell_type": "code",
   "execution_count": 7,
   "metadata": {},
   "outputs": [
    {
     "name": "stderr",
     "output_type": "stream",
     "text": [
      "                                                                                \r"
     ]
    }
   ],
   "source": [
    "df = spark.read.csv('../data/dog_food.csv', inferSchema=True, header=True)"
   ]
  },
  {
   "cell_type": "code",
   "execution_count": 8,
   "metadata": {},
   "outputs": [
    {
     "data": {
      "text/plain": [
       "1"
      ]
     },
     "execution_count": 8,
     "metadata": {},
     "output_type": "execute_result"
    }
   ],
   "source": [
    "df.rdd.getNumPartitions()"
   ]
  },
  {
   "cell_type": "code",
   "execution_count": 9,
   "metadata": {},
   "outputs": [
    {
     "name": "stdout",
     "output_type": "stream",
     "text": [
      "+---+---+----+---+-------+\n",
      "|  A|  B|   C|  D|Spoiled|\n",
      "+---+---+----+---+-------+\n",
      "|  4|  2|12.0|  3|    1.0|\n",
      "|  5|  6|12.0|  7|    1.0|\n",
      "|  6|  2|13.0|  6|    1.0|\n",
      "|  4|  2|12.0|  1|    1.0|\n",
      "|  4|  2|12.0|  3|    1.0|\n",
      "+---+---+----+---+-------+\n",
      "only showing top 5 rows\n",
      "\n"
     ]
    }
   ],
   "source": [
    "df.show(5)"
   ]
  },
  {
   "cell_type": "code",
   "execution_count": 10,
   "metadata": {},
   "outputs": [],
   "source": [
    "features = [\n",
    "    'A',\n",
    "    'B',\n",
    "    'C',\n",
    "    'D'\n",
    "]\n",
    "\n",
    "target = 'Spoiled'"
   ]
  },
  {
   "cell_type": "code",
   "execution_count": 11,
   "metadata": {},
   "outputs": [
    {
     "name": "stdout",
     "output_type": "stream",
     "text": [
      "+-------+------------------+\n",
      "|Spoiled|          features|\n",
      "+-------+------------------+\n",
      "|    1.0|[4.0,2.0,12.0,3.0]|\n",
      "|    1.0|[5.0,6.0,12.0,7.0]|\n",
      "|    1.0|[6.0,2.0,13.0,6.0]|\n",
      "|    1.0|[4.0,2.0,12.0,1.0]|\n",
      "|    1.0|[4.0,2.0,12.0,3.0]|\n",
      "+-------+------------------+\n",
      "only showing top 5 rows\n",
      "\n"
     ]
    }
   ],
   "source": [
    "assembler = VectorAssembler(inputCols=features, outputCol='features')\n",
    "data_table = assembler.transform(df)\n",
    "data_table = data_table.select(target, 'features')\n",
    "data_table.show(5)"
   ]
  },
  {
   "cell_type": "code",
   "execution_count": 12,
   "metadata": {},
   "outputs": [],
   "source": [
    "df_zeros = data_table.filter(data_table[target] == 0)\n",
    "df_ones = data_table.filter(data_table[target] == 1)\n",
    "\n",
    "train_zeros, test_zeros = df_zeros.randomSplit([0.7, 0.3], seed=random_seed)\n",
    "train_ones, test_ones = df_ones.randomSplit([0.7, 0.3], seed=random_seed)\n",
    "\n",
    "train = train_zeros.union(train_ones)\n",
    "test = test_zeros.union(test_ones)"
   ]
  },
  {
   "cell_type": "code",
   "execution_count": 13,
   "metadata": {},
   "outputs": [],
   "source": [
    "evaluatorMulti = MulticlassClassificationEvaluator(labelCol=target, predictionCol=\"prediction\")"
   ]
  },
  {
   "cell_type": "code",
   "execution_count": 14,
   "metadata": {},
   "outputs": [],
   "source": [
    "def objective(trial):\n",
    "    \n",
    "    params = {\n",
    "        'maxDepth' : trial.suggest_int('maxDepth', 2, 10), \n",
    "        'maxBins': trial.suggest_int('maxBins', 2, 10),\n",
    "        'subsamplingRate': trial.suggest_float('subsamplingRate', 0.1, 1.0, step=0.1),\n",
    "        'maxIter': trial.suggest_int('maxIter', 20, 100, step=10),\n",
    "        'stepSize' : trial.suggest_float('stepSize', 0.1, 1.0, step=0.1),\n",
    "    }\n",
    "   \n",
    "    model = GBTClassifier(\n",
    "        featuresCol='features',\n",
    "        labelCol=target,\n",
    "        seed=random_seed, \n",
    "        **params\n",
    "    ) \n",
    "    \n",
    "    model = model.fit(train)\n",
    "    preds = model.transform(test)\n",
    "    \n",
    "    acc = evaluatorMulti.evaluate(preds, {evaluatorMulti.metricName: 'accuracy'})\n",
    "    \n",
    "    return acc"
   ]
  },
  {
   "cell_type": "code",
   "execution_count": 15,
   "metadata": {},
   "outputs": [],
   "source": [
    "def callback(study, trial):\n",
    "    if trial.value > 0.98:\n",
    "        study.stop()"
   ]
  },
  {
   "cell_type": "code",
   "execution_count": 16,
   "metadata": {},
   "outputs": [
    {
     "name": "stderr",
     "output_type": "stream",
     "text": [
      "[I 2023-11-07 22:16:43,274] A new study created in memory with name: study_GBTClassifier\n",
      "[I 2023-11-07 22:17:10,524] Trial 0 finished with value: 0.9642857142857143 and parameters: {'maxDepth': 7, 'maxBins': 10, 'subsamplingRate': 0.4, 'maxIter': 40, 'stepSize': 0.5}. Best is trial 0 with value: 0.9642857142857143.\n",
      "[I 2023-11-07 22:17:28,016] Trial 1 finished with value: 0.9714285714285714 and parameters: {'maxDepth': 10, 'maxBins': 4, 'subsamplingRate': 0.1, 'maxIter': 40, 'stepSize': 0.1}. Best is trial 1 with value: 0.9714285714285714.\n",
      "[I 2023-11-07 22:17:46,245] Trial 2 finished with value: 0.9642857142857143 and parameters: {'maxDepth': 7, 'maxBins': 9, 'subsamplingRate': 0.5, 'maxIter': 40, 'stepSize': 0.30000000000000004}. Best is trial 1 with value: 0.9714285714285714.\n",
      "[I 2023-11-07 22:18:00,059] Trial 3 finished with value: 0.9714285714285714 and parameters: {'maxDepth': 2, 'maxBins': 4, 'subsamplingRate': 1.0, 'maxIter': 80, 'stepSize': 0.30000000000000004}. Best is trial 1 with value: 0.9714285714285714.\n",
      "[I 2023-11-07 22:18:18,993] Trial 4 finished with value: 0.9428571428571428 and parameters: {'maxDepth': 10, 'maxBins': 9, 'subsamplingRate': 0.2, 'maxIter': 30, 'stepSize': 0.8}. Best is trial 1 with value: 0.9714285714285714.\n",
      "[I 2023-11-07 22:18:47,428] Trial 5 finished with value: 0.9642857142857143 and parameters: {'maxDepth': 4, 'maxBins': 9, 'subsamplingRate': 0.8, 'maxIter': 90, 'stepSize': 0.7000000000000001}. Best is trial 1 with value: 0.9714285714285714.\n",
      "[I 2023-11-07 22:19:16,561] Trial 6 finished with value: 0.75 and parameters: {'maxDepth': 10, 'maxBins': 2, 'subsamplingRate': 0.30000000000000004, 'maxIter': 80, 'stepSize': 0.4}. Best is trial 1 with value: 0.9714285714285714.\n",
      "23/11/07 22:19:50 WARN DAGScheduler: Broadcasting large task binary with size 1003.9 KiB\n",
      "23/11/07 22:19:51 WARN DAGScheduler: Broadcasting large task binary with size 1004.8 KiB\n",
      "23/11/07 22:19:51 WARN DAGScheduler: Broadcasting large task binary with size 1005.3 KiB\n",
      "23/11/07 22:19:51 WARN DAGScheduler: Broadcasting large task binary with size 1005.8 KiB\n",
      "23/11/07 22:19:51 WARN DAGScheduler: Broadcasting large task binary with size 1007.0 KiB\n",
      "23/11/07 22:19:51 WARN DAGScheduler: Broadcasting large task binary with size 1009.2 KiB\n",
      "23/11/07 22:19:51 WARN DAGScheduler: Broadcasting large task binary with size 1013.6 KiB\n",
      "23/11/07 22:19:51 WARN DAGScheduler: Broadcasting large task binary with size 1020.0 KiB\n",
      "23/11/07 22:19:51 WARN DAGScheduler: Broadcasting large task binary with size 1020.5 KiB\n",
      "23/11/07 22:19:51 WARN DAGScheduler: Broadcasting large task binary with size 1021.0 KiB\n",
      "23/11/07 22:19:51 WARN DAGScheduler: Broadcasting large task binary with size 1021.5 KiB\n",
      "23/11/07 22:19:51 WARN DAGScheduler: Broadcasting large task binary with size 1022.7 KiB\n",
      "23/11/07 22:19:52 WARN DAGScheduler: Broadcasting large task binary with size 1024.9 KiB\n",
      "23/11/07 22:19:52 WARN DAGScheduler: Broadcasting large task binary with size 1029.4 KiB\n",
      "23/11/07 22:19:52 WARN DAGScheduler: Broadcasting large task binary with size 1037.2 KiB\n",
      "23/11/07 22:19:52 WARN DAGScheduler: Broadcasting large task binary with size 1037.0 KiB\n",
      "23/11/07 22:19:52 WARN DAGScheduler: Broadcasting large task binary with size 1037.5 KiB\n",
      "23/11/07 22:19:52 WARN DAGScheduler: Broadcasting large task binary with size 1038.1 KiB\n",
      "23/11/07 22:19:52 WARN DAGScheduler: Broadcasting large task binary with size 1039.2 KiB\n",
      "23/11/07 22:19:52 WARN DAGScheduler: Broadcasting large task binary with size 1041.4 KiB\n",
      "23/11/07 22:19:52 WARN DAGScheduler: Broadcasting large task binary with size 1045.4 KiB\n",
      "23/11/07 22:19:52 WARN DAGScheduler: Broadcasting large task binary with size 1051.1 KiB\n",
      "23/11/07 22:19:53 WARN DAGScheduler: Broadcasting large task binary with size 1052.1 KiB\n",
      "23/11/07 22:19:53 WARN DAGScheduler: Broadcasting large task binary with size 1052.5 KiB\n",
      "23/11/07 22:19:53 WARN DAGScheduler: Broadcasting large task binary with size 1053.1 KiB\n",
      "23/11/07 22:19:53 WARN DAGScheduler: Broadcasting large task binary with size 1054.2 KiB\n",
      "23/11/07 22:19:53 WARN DAGScheduler: Broadcasting large task binary with size 1056.5 KiB\n",
      "23/11/07 22:19:53 WARN DAGScheduler: Broadcasting large task binary with size 1060.6 KiB\n",
      "23/11/07 22:19:53 WARN DAGScheduler: Broadcasting large task binary with size 1067.3 KiB\n",
      "23/11/07 22:19:53 WARN DAGScheduler: Broadcasting large task binary with size 1067.3 KiB\n",
      "23/11/07 22:19:53 WARN DAGScheduler: Broadcasting large task binary with size 1067.8 KiB\n",
      "23/11/07 22:19:54 WARN DAGScheduler: Broadcasting large task binary with size 1068.4 KiB\n",
      "23/11/07 22:19:54 WARN DAGScheduler: Broadcasting large task binary with size 1069.5 KiB\n",
      "23/11/07 22:19:54 WARN DAGScheduler: Broadcasting large task binary with size 1071.8 KiB\n",
      "23/11/07 22:19:54 WARN DAGScheduler: Broadcasting large task binary with size 1075.9 KiB\n",
      "23/11/07 22:19:54 WARN DAGScheduler: Broadcasting large task binary with size 1082.6 KiB\n",
      "23/11/07 22:19:54 WARN DAGScheduler: Broadcasting large task binary with size 1083.1 KiB\n",
      "23/11/07 22:19:54 WARN DAGScheduler: Broadcasting large task binary with size 1083.6 KiB\n",
      "23/11/07 22:19:54 WARN DAGScheduler: Broadcasting large task binary with size 1084.1 KiB\n",
      "23/11/07 22:19:54 WARN DAGScheduler: Broadcasting large task binary with size 1085.3 KiB\n",
      "23/11/07 22:19:54 WARN DAGScheduler: Broadcasting large task binary with size 1087.5 KiB\n",
      "23/11/07 22:19:54 WARN DAGScheduler: Broadcasting large task binary with size 1091.9 KiB\n",
      "23/11/07 22:19:55 WARN DAGScheduler: Broadcasting large task binary with size 1098.0 KiB\n",
      "23/11/07 22:19:55 WARN DAGScheduler: Broadcasting large task binary with size 1098.0 KiB\n",
      "23/11/07 22:19:55 WARN DAGScheduler: Broadcasting large task binary with size 1098.5 KiB\n",
      "23/11/07 22:19:55 WARN DAGScheduler: Broadcasting large task binary with size 1099.1 KiB\n",
      "23/11/07 22:19:55 WARN DAGScheduler: Broadcasting large task binary with size 1100.2 KiB\n",
      "23/11/07 22:19:55 WARN DAGScheduler: Broadcasting large task binary with size 1102.5 KiB\n",
      "23/11/07 22:19:55 WARN DAGScheduler: Broadcasting large task binary with size 1106.6 KiB\n",
      "23/11/07 22:19:55 WARN DAGScheduler: Broadcasting large task binary with size 1112.8 KiB\n",
      "23/11/07 22:19:55 WARN DAGScheduler: Broadcasting large task binary with size 1112.7 KiB\n",
      "23/11/07 22:19:55 WARN DAGScheduler: Broadcasting large task binary with size 1113.2 KiB\n",
      "23/11/07 22:19:56 WARN DAGScheduler: Broadcasting large task binary with size 1113.8 KiB\n",
      "23/11/07 22:19:56 WARN DAGScheduler: Broadcasting large task binary with size 1114.9 KiB\n",
      "23/11/07 22:19:56 WARN DAGScheduler: Broadcasting large task binary with size 1117.1 KiB\n",
      "23/11/07 22:19:56 WARN DAGScheduler: Broadcasting large task binary with size 1121.6 KiB\n",
      "23/11/07 22:19:56 WARN DAGScheduler: Broadcasting large task binary with size 1129.0 KiB\n",
      "23/11/07 22:19:56 WARN DAGScheduler: Broadcasting large task binary with size 1129.2 KiB\n",
      "23/11/07 22:19:56 WARN DAGScheduler: Broadcasting large task binary with size 1129.7 KiB\n",
      "23/11/07 22:19:56 WARN DAGScheduler: Broadcasting large task binary with size 1130.3 KiB\n",
      "23/11/07 22:19:56 WARN DAGScheduler: Broadcasting large task binary with size 1131.4 KiB\n",
      "23/11/07 22:19:56 WARN DAGScheduler: Broadcasting large task binary with size 1133.7 KiB\n",
      "23/11/07 22:19:56 WARN DAGScheduler: Broadcasting large task binary with size 1137.9 KiB\n",
      "23/11/07 22:19:57 WARN DAGScheduler: Broadcasting large task binary with size 1144.3 KiB\n",
      "23/11/07 22:19:57 WARN DAGScheduler: Broadcasting large task binary with size 1144.2 KiB\n",
      "23/11/07 22:19:57 WARN DAGScheduler: Broadcasting large task binary with size 1144.7 KiB\n",
      "23/11/07 22:19:57 WARN DAGScheduler: Broadcasting large task binary with size 1145.3 KiB\n",
      "23/11/07 22:19:57 WARN DAGScheduler: Broadcasting large task binary with size 1146.4 KiB\n",
      "23/11/07 22:19:57 WARN DAGScheduler: Broadcasting large task binary with size 1148.7 KiB\n",
      "23/11/07 22:19:57 WARN DAGScheduler: Broadcasting large task binary with size 1152.8 KiB\n",
      "23/11/07 22:19:57 WARN DAGScheduler: Broadcasting large task binary with size 1159.1 KiB\n",
      "23/11/07 22:19:57 WARN DAGScheduler: Broadcasting large task binary with size 1159.3 KiB\n",
      "23/11/07 22:19:57 WARN DAGScheduler: Broadcasting large task binary with size 1159.7 KiB\n",
      "23/11/07 22:19:57 WARN DAGScheduler: Broadcasting large task binary with size 1160.3 KiB\n",
      "23/11/07 22:19:58 WARN DAGScheduler: Broadcasting large task binary with size 1161.4 KiB\n",
      "23/11/07 22:19:58 WARN DAGScheduler: Broadcasting large task binary with size 1163.6 KiB\n",
      "23/11/07 22:19:58 WARN DAGScheduler: Broadcasting large task binary with size 1167.8 KiB\n",
      "23/11/07 22:19:58 WARN DAGScheduler: Broadcasting large task binary with size 1174.4 KiB\n",
      "23/11/07 22:19:58 WARN DAGScheduler: Broadcasting large task binary with size 1174.7 KiB\n",
      "23/11/07 22:19:58 WARN DAGScheduler: Broadcasting large task binary with size 1175.2 KiB\n",
      "23/11/07 22:19:58 WARN DAGScheduler: Broadcasting large task binary with size 1175.7 KiB\n",
      "23/11/07 22:19:58 WARN DAGScheduler: Broadcasting large task binary with size 1176.9 KiB\n",
      "23/11/07 22:19:58 WARN DAGScheduler: Broadcasting large task binary with size 1179.1 KiB\n",
      "23/11/07 22:19:59 WARN DAGScheduler: Broadcasting large task binary with size 1182.9 KiB\n",
      "23/11/07 22:19:59 WARN DAGScheduler: Broadcasting large task binary with size 1188.8 KiB\n",
      "23/11/07 22:19:59 WARN DAGScheduler: Broadcasting large task binary with size 1189.7 KiB\n",
      "23/11/07 22:19:59 WARN DAGScheduler: Broadcasting large task binary with size 1190.2 KiB\n",
      "23/11/07 22:19:59 WARN DAGScheduler: Broadcasting large task binary with size 1190.7 KiB\n",
      "23/11/07 22:19:59 WARN DAGScheduler: Broadcasting large task binary with size 1191.8 KiB\n",
      "23/11/07 22:19:59 WARN DAGScheduler: Broadcasting large task binary with size 1194.0 KiB\n",
      "23/11/07 22:19:59 WARN DAGScheduler: Broadcasting large task binary with size 1197.9 KiB\n",
      "23/11/07 22:20:00 WARN DAGScheduler: Broadcasting large task binary with size 1204.0 KiB\n",
      "23/11/07 22:20:00 WARN DAGScheduler: Broadcasting large task binary with size 1204.6 KiB\n",
      "23/11/07 22:20:00 WARN DAGScheduler: Broadcasting large task binary with size 1205.1 KiB\n",
      "23/11/07 22:20:00 WARN DAGScheduler: Broadcasting large task binary with size 1205.7 KiB\n",
      "23/11/07 22:20:00 WARN DAGScheduler: Broadcasting large task binary with size 1206.8 KiB\n",
      "23/11/07 22:20:00 WARN DAGScheduler: Broadcasting large task binary with size 1209.0 KiB\n",
      "23/11/07 22:20:00 WARN DAGScheduler: Broadcasting large task binary with size 1213.4 KiB\n",
      "23/11/07 22:20:00 WARN DAGScheduler: Broadcasting large task binary with size 1219.4 KiB\n",
      "23/11/07 22:20:00 WARN DAGScheduler: Broadcasting large task binary with size 1220.2 KiB\n",
      "23/11/07 22:20:01 WARN DAGScheduler: Broadcasting large task binary with size 1220.7 KiB\n",
      "23/11/07 22:20:01 WARN DAGScheduler: Broadcasting large task binary with size 1221.3 KiB\n",
      "23/11/07 22:20:01 WARN DAGScheduler: Broadcasting large task binary with size 1222.4 KiB\n",
      "23/11/07 22:20:01 WARN DAGScheduler: Broadcasting large task binary with size 1224.6 KiB\n",
      "23/11/07 22:20:01 WARN DAGScheduler: Broadcasting large task binary with size 1228.8 KiB\n",
      "23/11/07 22:20:01 WARN DAGScheduler: Broadcasting large task binary with size 1235.0 KiB\n",
      "23/11/07 22:20:01 WARN DAGScheduler: Broadcasting large task binary with size 1236.0 KiB\n",
      "23/11/07 22:20:01 WARN DAGScheduler: Broadcasting large task binary with size 1236.4 KiB\n",
      "23/11/07 22:20:01 WARN DAGScheduler: Broadcasting large task binary with size 1237.0 KiB\n",
      "23/11/07 22:20:01 WARN DAGScheduler: Broadcasting large task binary with size 1238.1 KiB\n",
      "23/11/07 22:20:02 WARN DAGScheduler: Broadcasting large task binary with size 1240.4 KiB\n",
      "23/11/07 22:20:02 WARN DAGScheduler: Broadcasting large task binary with size 1244.7 KiB\n",
      "23/11/07 22:20:02 WARN DAGScheduler: Broadcasting large task binary with size 1251.5 KiB\n",
      "23/11/07 22:20:02 WARN DAGScheduler: Broadcasting large task binary with size 1252.2 KiB\n",
      "23/11/07 22:20:02 WARN DAGScheduler: Broadcasting large task binary with size 1252.6 KiB\n",
      "23/11/07 22:20:02 WARN DAGScheduler: Broadcasting large task binary with size 1253.2 KiB\n",
      "23/11/07 22:20:02 WARN DAGScheduler: Broadcasting large task binary with size 1254.3 KiB\n",
      "23/11/07 22:20:02 WARN DAGScheduler: Broadcasting large task binary with size 1256.6 KiB\n",
      "23/11/07 22:20:02 WARN DAGScheduler: Broadcasting large task binary with size 1260.9 KiB\n",
      "23/11/07 22:20:03 WARN DAGScheduler: Broadcasting large task binary with size 1267.5 KiB\n",
      "23/11/07 22:20:03 WARN DAGScheduler: Broadcasting large task binary with size 1267.5 KiB\n",
      "23/11/07 22:20:03 WARN DAGScheduler: Broadcasting large task binary with size 1268.0 KiB\n",
      "23/11/07 22:20:03 WARN DAGScheduler: Broadcasting large task binary with size 1268.5 KiB\n",
      "23/11/07 22:20:03 WARN DAGScheduler: Broadcasting large task binary with size 1269.7 KiB\n",
      "23/11/07 22:20:03 WARN DAGScheduler: Broadcasting large task binary with size 1271.9 KiB\n",
      "23/11/07 22:20:03 WARN DAGScheduler: Broadcasting large task binary with size 1276.2 KiB\n",
      "23/11/07 22:20:03 WARN DAGScheduler: Broadcasting large task binary with size 1282.0 KiB\n",
      "23/11/07 22:20:03 WARN DAGScheduler: Broadcasting large task binary with size 1282.8 KiB\n",
      "23/11/07 22:20:04 WARN DAGScheduler: Broadcasting large task binary with size 1283.3 KiB\n",
      "23/11/07 22:20:04 WARN DAGScheduler: Broadcasting large task binary with size 1283.8 KiB\n",
      "23/11/07 22:20:04 WARN DAGScheduler: Broadcasting large task binary with size 1285.0 KiB\n",
      "23/11/07 22:20:04 WARN DAGScheduler: Broadcasting large task binary with size 1287.2 KiB\n",
      "23/11/07 22:20:04 WARN DAGScheduler: Broadcasting large task binary with size 1291.1 KiB\n",
      "23/11/07 22:20:04 WARN DAGScheduler: Broadcasting large task binary with size 1297.6 KiB\n",
      "23/11/07 22:20:04 WARN DAGScheduler: Broadcasting large task binary with size 1297.9 KiB\n",
      "23/11/07 22:20:04 WARN DAGScheduler: Broadcasting large task binary with size 1298.3 KiB\n",
      "23/11/07 22:20:04 WARN DAGScheduler: Broadcasting large task binary with size 1298.9 KiB\n",
      "23/11/07 22:20:04 WARN DAGScheduler: Broadcasting large task binary with size 1300.0 KiB\n",
      "23/11/07 22:20:05 WARN DAGScheduler: Broadcasting large task binary with size 1302.3 KiB\n",
      "23/11/07 22:20:05 WARN DAGScheduler: Broadcasting large task binary with size 1306.4 KiB\n",
      "23/11/07 22:20:05 WARN DAGScheduler: Broadcasting large task binary with size 1312.8 KiB\n",
      "23/11/07 22:20:05 WARN DAGScheduler: Broadcasting large task binary with size 1313.1 KiB\n",
      "23/11/07 22:20:05 WARN DAGScheduler: Broadcasting large task binary with size 1313.6 KiB\n",
      "23/11/07 22:20:05 WARN DAGScheduler: Broadcasting large task binary with size 1314.2 KiB\n",
      "23/11/07 22:20:05 WARN DAGScheduler: Broadcasting large task binary with size 1315.3 KiB\n",
      "23/11/07 22:20:05 WARN DAGScheduler: Broadcasting large task binary with size 1317.6 KiB\n",
      "23/11/07 22:20:05 WARN DAGScheduler: Broadcasting large task binary with size 1321.7 KiB\n",
      "23/11/07 22:20:06 WARN DAGScheduler: Broadcasting large task binary with size 1327.9 KiB\n",
      "23/11/07 22:20:06 WARN DAGScheduler: Broadcasting large task binary with size 1327.8 KiB\n",
      "23/11/07 22:20:06 WARN DAGScheduler: Broadcasting large task binary with size 1328.3 KiB\n",
      "23/11/07 22:20:06 WARN DAGScheduler: Broadcasting large task binary with size 1328.8 KiB\n",
      "23/11/07 22:20:06 WARN DAGScheduler: Broadcasting large task binary with size 1330.0 KiB\n",
      "23/11/07 22:20:06 WARN DAGScheduler: Broadcasting large task binary with size 1332.2 KiB\n",
      "23/11/07 22:20:06 WARN DAGScheduler: Broadcasting large task binary with size 1336.4 KiB\n",
      "23/11/07 22:20:06 WARN DAGScheduler: Broadcasting large task binary with size 1343.3 KiB\n",
      "23/11/07 22:20:06 WARN DAGScheduler: Broadcasting large task binary with size 1343.5 KiB\n",
      "23/11/07 22:20:07 WARN DAGScheduler: Broadcasting large task binary with size 1344.0 KiB\n",
      "23/11/07 22:20:07 WARN DAGScheduler: Broadcasting large task binary with size 1344.6 KiB\n",
      "23/11/07 22:20:07 WARN DAGScheduler: Broadcasting large task binary with size 1345.7 KiB\n",
      "23/11/07 22:20:07 WARN DAGScheduler: Broadcasting large task binary with size 1348.0 KiB\n",
      "23/11/07 22:20:07 WARN DAGScheduler: Broadcasting large task binary with size 1352.3 KiB\n",
      "23/11/07 22:20:07 WARN DAGScheduler: Broadcasting large task binary with size 1358.5 KiB\n",
      "23/11/07 22:20:07 WARN DAGScheduler: Broadcasting large task binary with size 1359.0 KiB\n",
      "23/11/07 22:20:07 WARN DAGScheduler: Broadcasting large task binary with size 1359.5 KiB\n",
      "23/11/07 22:20:07 WARN DAGScheduler: Broadcasting large task binary with size 1360.1 KiB\n",
      "23/11/07 22:20:08 WARN DAGScheduler: Broadcasting large task binary with size 1361.2 KiB\n",
      "23/11/07 22:20:08 WARN DAGScheduler: Broadcasting large task binary with size 1363.4 KiB\n",
      "23/11/07 22:20:08 WARN DAGScheduler: Broadcasting large task binary with size 1367.5 KiB\n",
      "23/11/07 22:20:08 WARN DAGScheduler: Broadcasting large task binary with size 1374.0 KiB\n",
      "23/11/07 22:20:08 WARN DAGScheduler: Broadcasting large task binary with size 1374.9 KiB\n",
      "23/11/07 22:20:08 WARN DAGScheduler: Broadcasting large task binary with size 1375.4 KiB\n",
      "23/11/07 22:20:08 WARN DAGScheduler: Broadcasting large task binary with size 1375.9 KiB\n",
      "23/11/07 22:20:08 WARN DAGScheduler: Broadcasting large task binary with size 1377.1 KiB\n",
      "23/11/07 22:20:08 WARN DAGScheduler: Broadcasting large task binary with size 1379.3 KiB\n",
      "23/11/07 22:20:09 WARN DAGScheduler: Broadcasting large task binary with size 1383.7 KiB\n",
      "23/11/07 22:20:09 WARN DAGScheduler: Broadcasting large task binary with size 1390.2 KiB\n",
      "23/11/07 22:20:09 WARN DAGScheduler: Broadcasting large task binary with size 1389.9 KiB\n",
      "23/11/07 22:20:09 WARN DAGScheduler: Broadcasting large task binary with size 1390.4 KiB\n",
      "23/11/07 22:20:09 WARN DAGScheduler: Broadcasting large task binary with size 1391.0 KiB\n",
      "23/11/07 22:20:09 WARN DAGScheduler: Broadcasting large task binary with size 1392.1 KiB\n",
      "23/11/07 22:20:09 WARN DAGScheduler: Broadcasting large task binary with size 1394.4 KiB\n",
      "23/11/07 22:20:09 WARN DAGScheduler: Broadcasting large task binary with size 1398.7 KiB\n",
      "23/11/07 22:20:09 WARN DAGScheduler: Broadcasting large task binary with size 1405.6 KiB\n",
      "23/11/07 22:20:10 WARN DAGScheduler: Broadcasting large task binary with size 1405.7 KiB\n",
      "23/11/07 22:20:10 WARN DAGScheduler: Broadcasting large task binary with size 1406.1 KiB\n",
      "23/11/07 22:20:10 WARN DAGScheduler: Broadcasting large task binary with size 1406.7 KiB\n",
      "23/11/07 22:20:10 WARN DAGScheduler: Broadcasting large task binary with size 1407.8 KiB\n",
      "23/11/07 22:20:10 WARN DAGScheduler: Broadcasting large task binary with size 1410.1 KiB\n",
      "23/11/07 22:20:10 WARN DAGScheduler: Broadcasting large task binary with size 1414.5 KiB\n",
      "23/11/07 22:20:10 WARN DAGScheduler: Broadcasting large task binary with size 1421.7 KiB\n",
      "23/11/07 22:20:10 WARN DAGScheduler: Broadcasting large task binary with size 1422.0 KiB\n",
      "23/11/07 22:20:10 WARN DAGScheduler: Broadcasting large task binary with size 1422.4 KiB\n",
      "23/11/07 22:20:11 WARN DAGScheduler: Broadcasting large task binary with size 1423.0 KiB\n",
      "23/11/07 22:20:11 WARN DAGScheduler: Broadcasting large task binary with size 1424.2 KiB\n",
      "23/11/07 22:20:11 WARN DAGScheduler: Broadcasting large task binary with size 1426.4 KiB\n",
      "23/11/07 22:20:11 WARN DAGScheduler: Broadcasting large task binary with size 1430.8 KiB\n",
      "23/11/07 22:20:11 WARN DAGScheduler: Broadcasting large task binary with size 1437.5 KiB\n",
      "23/11/07 22:20:11 WARN DAGScheduler: Broadcasting large task binary with size 1420.4 KiB\n",
      "[I 2023-11-07 22:20:11,976] Trial 7 finished with value: 0.9285714285714286 and parameters: {'maxDepth': 7, 'maxBins': 5, 'subsamplingRate': 0.7000000000000001, 'maxIter': 90, 'stepSize': 0.9}. Best is trial 1 with value: 0.9714285714285714.\n",
      "[I 2023-11-07 22:20:28,452] Trial 8 finished with value: 0.9642857142857143 and parameters: {'maxDepth': 5, 'maxBins': 7, 'subsamplingRate': 0.1, 'maxIter': 60, 'stepSize': 0.2}. Best is trial 1 with value: 0.9714285714285714.\n",
      "[I 2023-11-07 22:20:41,146] Trial 9 finished with value: 0.9642857142857143 and parameters: {'maxDepth': 6, 'maxBins': 8, 'subsamplingRate': 0.2, 'maxIter': 40, 'stepSize': 0.2}. Best is trial 1 with value: 0.9714285714285714.\n",
      "[I 2023-11-07 22:20:48,220] Trial 10 finished with value: 0.7214285714285714 and parameters: {'maxDepth': 9, 'maxBins': 2, 'subsamplingRate': 0.6, 'maxIter': 20, 'stepSize': 0.1}. Best is trial 1 with value: 0.9714285714285714.\n",
      "[I 2023-11-07 22:20:58,866] Trial 11 finished with value: 0.9714285714285714 and parameters: {'maxDepth': 2, 'maxBins': 4, 'subsamplingRate': 1.0, 'maxIter': 70, 'stepSize': 0.1}. Best is trial 1 with value: 0.9714285714285714.\n",
      "[I 2023-11-07 22:21:08,317] Trial 12 finished with value: 0.9714285714285714 and parameters: {'maxDepth': 2, 'maxBins': 4, 'subsamplingRate': 1.0, 'maxIter': 60, 'stepSize': 0.4}. Best is trial 1 with value: 0.9714285714285714.\n",
      "[I 2023-11-07 22:21:39,143] Trial 13 finished with value: 0.9642857142857143 and parameters: {'maxDepth': 4, 'maxBins': 4, 'subsamplingRate': 0.8, 'maxIter': 100, 'stepSize': 0.6}. Best is trial 1 with value: 0.9714285714285714.\n",
      "[I 2023-11-07 22:22:06,072] Trial 14 finished with value: 0.9642857142857143 and parameters: {'maxDepth': 8, 'maxBins': 6, 'subsamplingRate': 0.4, 'maxIter': 50, 'stepSize': 0.30000000000000004}. Best is trial 1 with value: 0.9714285714285714.\n",
      "[I 2023-11-07 22:22:21,452] Trial 15 finished with value: 0.95 and parameters: {'maxDepth': 3, 'maxBins': 3, 'subsamplingRate': 0.9, 'maxIter': 70, 'stepSize': 0.1}. Best is trial 1 with value: 0.9714285714285714.\n",
      "[I 2023-11-07 22:22:28,059] Trial 16 finished with value: 0.9642857142857143 and parameters: {'maxDepth': 5, 'maxBins': 6, 'subsamplingRate': 0.6, 'maxIter': 20, 'stepSize': 0.30000000000000004}. Best is trial 1 with value: 0.9714285714285714.\n",
      "[I 2023-11-07 22:23:10,625] Trial 17 finished with value: 0.9571428571428572 and parameters: {'maxDepth': 9, 'maxBins': 5, 'subsamplingRate': 0.1, 'maxIter': 70, 'stepSize': 0.5}. Best is trial 1 with value: 0.9714285714285714.\n",
      "[I 2023-11-07 22:23:33,737] Trial 18 finished with value: 0.9428571428571428 and parameters: {'maxDepth': 3, 'maxBins': 3, 'subsamplingRate': 0.5, 'maxIter': 100, 'stepSize': 0.2}. Best is trial 1 with value: 0.9714285714285714.\n",
      "[I 2023-11-07 22:23:54,703] Trial 19 finished with value: 0.9285714285714286 and parameters: {'maxDepth': 6, 'maxBins': 5, 'subsamplingRate': 0.7000000000000001, 'maxIter': 50, 'stepSize': 0.4}. Best is trial 1 with value: 0.9714285714285714.\n",
      "[I 2023-11-07 22:24:41,402] Trial 20 finished with value: 0.9285714285714286 and parameters: {'maxDepth': 9, 'maxBins': 3, 'subsamplingRate': 0.30000000000000004, 'maxIter': 80, 'stepSize': 1.0}. Best is trial 1 with value: 0.9714285714285714.\n",
      "[I 2023-11-07 22:24:52,527] Trial 21 finished with value: 0.9714285714285714 and parameters: {'maxDepth': 2, 'maxBins': 4, 'subsamplingRate': 1.0, 'maxIter': 70, 'stepSize': 0.1}. Best is trial 1 with value: 0.9714285714285714.\n",
      "[I 2023-11-07 22:25:09,909] Trial 22 finished with value: 0.9642857142857143 and parameters: {'maxDepth': 3, 'maxBins': 6, 'subsamplingRate': 0.9, 'maxIter': 80, 'stepSize': 0.1}. Best is trial 1 with value: 0.9714285714285714.\n",
      "[I 2023-11-07 22:25:18,843] Trial 23 finished with value: 0.9714285714285714 and parameters: {'maxDepth': 2, 'maxBins': 4, 'subsamplingRate': 0.9, 'maxIter': 60, 'stepSize': 0.2}. Best is trial 1 with value: 0.9714285714285714.\n",
      "[I 2023-11-07 22:25:32,312] Trial 24 finished with value: 0.95 and parameters: {'maxDepth': 4, 'maxBins': 3, 'subsamplingRate': 1.0, 'maxIter': 50, 'stepSize': 0.30000000000000004}. Best is trial 1 with value: 0.9714285714285714.\n",
      "[I 2023-11-07 22:25:52,544] Trial 25 finished with value: 0.9214285714285714 and parameters: {'maxDepth': 3, 'maxBins': 5, 'subsamplingRate': 0.8, 'maxIter': 90, 'stepSize': 0.1}. Best is trial 1 with value: 0.9714285714285714.\n",
      "[I 2023-11-07 22:26:02,687] Trial 26 finished with value: 0.7142857142857143 and parameters: {'maxDepth': 2, 'maxBins': 2, 'subsamplingRate': 0.7000000000000001, 'maxIter': 70, 'stepSize': 0.2}. Best is trial 1 with value: 0.9714285714285714.\n",
      "[I 2023-11-07 22:26:28,525] Trial 27 finished with value: 0.9642857142857143 and parameters: {'maxDepth': 5, 'maxBins': 7, 'subsamplingRate': 0.9, 'maxIter': 80, 'stepSize': 0.2}. Best is trial 1 with value: 0.9714285714285714.\n",
      "[I 2023-11-07 22:26:40,912] Trial 28 finished with value: 0.9714285714285714 and parameters: {'maxDepth': 8, 'maxBins': 4, 'subsamplingRate': 1.0, 'maxIter': 30, 'stepSize': 0.6}. Best is trial 1 with value: 0.9714285714285714.\n",
      "[I 2023-11-07 22:26:55,083] Trial 29 finished with value: 0.8928571428571429 and parameters: {'maxDepth': 6, 'maxBins': 3, 'subsamplingRate': 0.4, 'maxIter': 40, 'stepSize': 0.4}. Best is trial 1 with value: 0.9714285714285714.\n"
     ]
    }
   ],
   "source": [
    "study = optuna.create_study(study_name='study_GBTClassifier', direction='maximize')\n",
    "study.optimize(objective, callbacks=[callback], n_trials=30, show_progress_bar=False)\n",
    "#study.optimize(objective, n_trials=50)\n",
    "#print('Number of finished trials:', len(study.trials))\n",
    "#print('Best trial:', study.best_trial.params)"
   ]
  },
  {
   "cell_type": "code",
   "execution_count": 17,
   "metadata": {},
   "outputs": [
    {
     "name": "stdout",
     "output_type": "stream",
     "text": [
      "Number of finished trials: 30\n"
     ]
    }
   ],
   "source": [
    "print('Number of finished trials:', len(study.trials))"
   ]
  },
  {
   "cell_type": "code",
   "execution_count": 18,
   "metadata": {},
   "outputs": [
    {
     "name": "stdout",
     "output_type": "stream",
     "text": [
      "Best trial: {'maxDepth': 10, 'maxBins': 4, 'subsamplingRate': 0.1, 'maxIter': 40, 'stepSize': 0.1}\n"
     ]
    }
   ],
   "source": [
    "print('Best trial:', study.best_trial.params)"
   ]
  },
  {
   "cell_type": "code",
   "execution_count": 19,
   "metadata": {},
   "outputs": [],
   "source": [
    "model = GBTClassifier(\n",
    "    featuresCol='features',\n",
    "    labelCol=target,\n",
    "    seed=random_seed,\n",
    "    **study.best_trial.params\n",
    ").fit(data_table)"
   ]
  },
  {
   "cell_type": "code",
   "execution_count": 20,
   "metadata": {},
   "outputs": [
    {
     "data": {
      "text/plain": [
       "SparseVector(4, {0: 0.1752, 1: 0.2135, 2: 0.4408, 3: 0.1705})"
      ]
     },
     "execution_count": 20,
     "metadata": {},
     "output_type": "execute_result"
    }
   ],
   "source": [
    "model.featureImportances"
   ]
  }
 ],
 "metadata": {
  "kernelspec": {
   "display_name": "pyspark",
   "language": "python",
   "name": "python3"
  },
  "language_info": {
   "codemirror_mode": {
    "name": "ipython",
    "version": 3
   },
   "file_extension": ".py",
   "mimetype": "text/x-python",
   "name": "python",
   "nbconvert_exporter": "python",
   "pygments_lexer": "ipython3",
   "version": "3.12.0"
  }
 },
 "nbformat": 4,
 "nbformat_minor": 2
}
